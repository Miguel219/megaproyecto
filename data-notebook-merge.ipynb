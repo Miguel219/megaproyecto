{
 "cells": [
  {
   "cell_type": "code",
   "execution_count": 1,
   "metadata": {},
   "outputs": [],
   "source": [
    "from osgeo import gdal\n",
    "import numpy as np\n",
    "import pandas as pd\n",
    "import richdem as rd\n",
    "import os\n",
    "import glob"
   ]
  },
  {
   "cell_type": "markdown",
   "metadata": {},
   "source": [
    "Constantes"
   ]
  },
  {
   "cell_type": "code",
   "execution_count": 2,
   "metadata": {},
   "outputs": [],
   "source": [
    "DATA_PATH = './results/data.csv'\n",
    "DATA_INSIVUMEH_PATH = './results/data_insivumeh.csv'\n",
    "RES_DATA = './results/data_merged.csv'"
   ]
  },
  {
   "cell_type": "markdown",
   "metadata": {},
   "source": [
    "Graficar la data"
   ]
  },
  {
   "cell_type": "code",
   "execution_count": 3,
   "metadata": {},
   "outputs": [],
   "source": [
    "class DefaultMetaObj:\n",
    "    geotransform = [0,1,0,0,0,-1]\n",
    "\n",
    "class DataGenerator:\n",
    "    def __init__(self, data_directory_1, data_directory_2):\n",
    "        self.data1 = pd.read_csv(data_directory_1, index_col=0)\n",
    "        self.data2 = pd.read_csv(data_directory_2, index_col=0)\n",
    "\n",
    "    def getData(self):\n",
    "        output = pd.merge(self.data1, self.data2, how='inner', on='landslide_id')\n",
    "        return output"
   ]
  },
  {
   "cell_type": "code",
   "execution_count": 4,
   "metadata": {},
   "outputs": [],
   "source": [
    "dg = DataGenerator(DATA_PATH, DATA_INSIVUMEH_PATH)\n",
    "data = dg.getData()"
   ]
  },
  {
   "cell_type": "code",
   "execution_count": 5,
   "metadata": {},
   "outputs": [],
   "source": [
    "data.to_csv(RES_DATA)  "
   ]
  }
 ],
 "metadata": {
  "kernelspec": {
   "display_name": "Python 3.10.5 ('geo_env')",
   "language": "python",
   "name": "python3"
  },
  "language_info": {
   "codemirror_mode": {
    "name": "ipython",
    "version": 3
   },
   "file_extension": ".py",
   "mimetype": "text/x-python",
   "name": "python",
   "nbconvert_exporter": "python",
   "pygments_lexer": "ipython3",
   "version": "3.9.12"
  },
  "orig_nbformat": 4,
  "vscode": {
   "interpreter": {
    "hash": "b9c0c391c6ceede039726100339536f42595e366b391c455e167086b0818566c"
   }
  }
 },
 "nbformat": 4,
 "nbformat_minor": 2
}
