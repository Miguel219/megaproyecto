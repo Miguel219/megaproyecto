{
 "cells": [
  {
   "cell_type": "code",
   "execution_count": 1,
   "metadata": {},
   "outputs": [],
   "source": [
    "import psycopg2\n",
    "import pandas as pd\n",
    "import numpy as np\n",
    "from sklearn import preprocessing"
   ]
  },
  {
   "cell_type": "code",
   "execution_count": 2,
   "metadata": {},
   "outputs": [],
   "source": [
    "PATH = './results/final/data_merged_all_gt_map_final.csv'"
   ]
  },
  {
   "cell_type": "code",
   "execution_count": 3,
   "metadata": {},
   "outputs": [],
   "source": [
    "def bulkInsert(records_locations_gt, records_geomorphological_data, records_precipitation_data, records_maga_data):\n",
    "    try:\n",
    "        connection = psycopg2.connect(user=\"postgres\",\n",
    "                                    password=\"migue219\",\n",
    "                                    host=\"127.0.0.1\",\n",
    "                                    port=\"5432\",\n",
    "                                    database=\"landslide_project\")\n",
    "        cursor = connection.cursor()\n",
    "        \n",
    "        # locations_gt\n",
    "        sql_insert_query = \"\"\" INSERT INTO public.locations_gt(\n",
    "                                id, location, satellite)\n",
    "                                VALUES (%s, ST_SetSRID(ST_MakePoint(%s, %s), 4326), %s); \"\"\"\n",
    "\n",
    "        result = cursor.executemany(sql_insert_query, records_locations_gt)\n",
    "\n",
    "        # geomorphological_data\n",
    "        sql_insert_query = \"\"\" INSERT INTO public.geomorphological_data(\n",
    "                                location_gt_id, update_date, elevation_mean, slope_mean, aspect_mean, \n",
    "                                placurv_mean, procurv_mean, elevation, slope, aspect, placurv, procurv)\n",
    "                                VALUES (%s, %s, %s, %s, %s, %s, %s, %s, %s, %s, %s, %s); \"\"\"\n",
    "\n",
    "        result = cursor.executemany(sql_insert_query, records_geomorphological_data)\n",
    "\n",
    "        # precipitation_data\n",
    "        sql_insert_query = \"\"\" INSERT INTO public.precipitation_data(\n",
    "                                location_gt_id, update_date, precipitation_mm_last_7_days)\n",
    "                                VALUES (%s, %s, %s); \"\"\"\n",
    "\n",
    "        result = cursor.executemany(sql_insert_query, records_precipitation_data)\n",
    "\n",
    "        # maga_data\n",
    "        sql_insert_query = \"\"\" INSERT INTO public.maga_data(\n",
    "                                location_gt_id, update_date, rock_geo, rock_period, fis_nomr, rock_type, \n",
    "                                soil_rec_symbol, soil_rec_mat_origin, soil_rec_sew_class, soil_rec_tex_sup, \n",
    "                                soil_rec_c_tex_sup, soil_rec_tex_sub, soil_rec_c__tex_sub, soil_rec_risk_eros, \n",
    "                                soil_tax, soil_use)\n",
    "                                VALUES (%s, %s, %s, %s, %s, %s, %s, %s, %s, %s, %s, %s, %s, %s, %s, %s); \"\"\"\n",
    "\n",
    "        result = cursor.executemany(sql_insert_query, records_maga_data)\n",
    "\n",
    "        connection.commit()\n",
    "        print(cursor.rowcount, \"Record inserted successfully into table\")\n",
    "\n",
    "    except (Exception, psycopg2.Error) as error:\n",
    "        print(\"Failed inserting record into table {}\".format(error))\n",
    "\n",
    "    finally:\n",
    "        # closing database connection.\n",
    "        if connection:\n",
    "            cursor.close()\n",
    "            connection.close()\n",
    "            print(\"PostgreSQL connection is closed\")"
   ]
  },
  {
   "cell_type": "code",
   "execution_count": 4,
   "metadata": {},
   "outputs": [],
   "source": [
    "data = pd.read_csv(PATH, index_col=0)\n",
    "data = data.where(data.notnull(), None)"
   ]
  },
  {
   "cell_type": "code",
   "execution_count": 5,
   "metadata": {},
   "outputs": [],
   "source": [
    "records_locations_gt, records_geomorphological_data, records_precipitation_data, records_maga_data = [], [], [], []\n",
    "update_date = '2022-10-10'\n",
    "for index, row in data.iterrows():\n",
    "    elevation_array, slope_array, aspect_array, placurv_array, procurv_array = [], [], [], [], []\n",
    "    for i in range(1, 26):\n",
    "        elevation_array.append(row['elevation_{}'.format(i)])\n",
    "        slope_array.append(row['slope_{}'.format(i)])\n",
    "        aspect_array.append(row['aspect_{}'.format(i)])\n",
    "        placurv_array.append(row['placurv_{}'.format(i)])\n",
    "        procurv_array.append(row['procurv_{}'.format(i)])\n",
    "    elevation_mean = np.mean(elevation_array)\n",
    "    slope_mean = np.mean(slope_array)\n",
    "    aspect_mean = np.mean(aspect_array)\n",
    "    placurv_mean = np.mean(placurv_array)\n",
    "    procurv_mean = np.mean(procurv_array)\n",
    "    records_locations_gt.append((row['landslide_id'], row['longitude'], row['latitude'], 'sentinel2'))\n",
    "    records_geomorphological_data.append((row['landslide_id'], update_date, elevation_mean, slope_mean, aspect_mean, \n",
    "                                placurv_mean, procurv_mean, elevation_array, slope_array, aspect_array, placurv_array, procurv_array))\n",
    "    records_precipitation_data.append((row['landslide_id'], update_date, row['precipitation_mm_last_7_days']))\n",
    "    records_maga_data.append((row['landslide_id'], update_date, row['rock_geo'], row['rock_period'], row['fis_nomr'], \n",
    "                                row['rock_type'], row['soil_rec_symbol'], row['soil_rec_mat_origin'], row['soil_rec_sew_class'], \n",
    "                                row['soil_rec_tex_sup'], row['soil_rec_c_tex_sup'], row['soil_rec_tex_sub'], row['soil_rec_c__tex_sub'], \n",
    "                                row['soil_rec_risk_eros'], row['soil_tax'], row['soil_use']))"
   ]
  },
  {
   "cell_type": "code",
   "execution_count": 6,
   "metadata": {},
   "outputs": [
    {
     "name": "stdout",
     "output_type": "stream",
     "text": [
      "96979 96979 96979 96979\n"
     ]
    }
   ],
   "source": [
    "print(len(records_locations_gt), len(records_geomorphological_data), len(records_precipitation_data), len(records_maga_data))"
   ]
  },
  {
   "cell_type": "code",
   "execution_count": 7,
   "metadata": {},
   "outputs": [
    {
     "name": "stdout",
     "output_type": "stream",
     "text": [
      "96979 Record inserted successfully into table\n",
      "PostgreSQL connection is closed\n"
     ]
    }
   ],
   "source": [
    "bulkInsert(records_locations_gt, records_geomorphological_data, records_precipitation_data, records_maga_data)"
   ]
  }
 ],
 "metadata": {
  "kernelspec": {
   "display_name": "Python 3.9.12 ('geo_env')",
   "language": "python",
   "name": "python3"
  },
  "language_info": {
   "codemirror_mode": {
    "name": "ipython",
    "version": 3
   },
   "file_extension": ".py",
   "mimetype": "text/x-python",
   "name": "python",
   "nbconvert_exporter": "python",
   "pygments_lexer": "ipython3",
   "version": "3.9.12"
  },
  "orig_nbformat": 4,
  "vscode": {
   "interpreter": {
    "hash": "b9c0c391c6ceede039726100339536f42595e366b391c455e167086b0818566c"
   }
  }
 },
 "nbformat": 4,
 "nbformat_minor": 2
}
