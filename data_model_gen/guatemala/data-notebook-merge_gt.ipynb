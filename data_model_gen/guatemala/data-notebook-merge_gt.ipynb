{
 "cells": [
  {
   "cell_type": "code",
   "execution_count": 1,
   "metadata": {},
   "outputs": [],
   "source": [
    "from osgeo import gdal\n",
    "import numpy as np\n",
    "import pandas as pd\n",
    "import richdem as rd\n",
    "import os\n",
    "import glob"
   ]
  },
  {
   "cell_type": "markdown",
   "metadata": {},
   "source": [
    "Constantes"
   ]
  },
  {
   "cell_type": "code",
   "execution_count": 10,
   "metadata": {},
   "outputs": [],
   "source": [
    "DATA_PATHS = [\n",
    "    './results/data_merged_all_gt_map_0.csv',\n",
    "    './results/data_merged_all_gt_map_1.csv',\n",
    "    './results/data_merged_all_gt_map_2.csv',\n",
    "    './results/data_merged_all_gt_map_3.csv',\n",
    "    './results/data_merged_all_gt_map_4.csv',\n",
    "    './results/data_merged_all_gt_map_5.csv',\n",
    "    './results/data_merged_all_gt_map_6.csv',\n",
    "    './results/data_merged_all_gt_map_7.csv',\n",
    "    './results/data_merged_all_gt_map_8.csv',\n",
    "    './results/data_merged_all_gt_map_9.csv',\n",
    "    './results/data_merged_all_gt_map_10.csv'\n",
    "]\n",
    "RES_DATA = './results/data_merged_all_gt_map_final_23_10.csv'"
   ]
  },
  {
   "cell_type": "markdown",
   "metadata": {},
   "source": [
    "Graficar la data"
   ]
  },
  {
   "cell_type": "code",
   "execution_count": 3,
   "metadata": {},
   "outputs": [],
   "source": [
    "class DefaultMetaObj:\n",
    "    geotransform = [0,1,0,0,0,-1]\n",
    "\n",
    "class DataGenerator:\n",
    "    def __init__(self, data_directories):\n",
    "        self.data_directories = data_directories\n",
    "\n",
    "    def getData(self):\n",
    "        output = pd.DataFrame()\n",
    "        for directory in self.data_directories:\n",
    "            output = pd.concat([output, pd.read_csv(directory, index_col=0)])\n",
    "        return output"
   ]
  },
  {
   "cell_type": "code",
   "execution_count": 4,
   "metadata": {},
   "outputs": [],
   "source": [
    "dg = DataGenerator(DATA_PATHS)\n",
    "data = dg.getData()"
   ]
  },
  {
   "cell_type": "code",
   "execution_count": 5,
   "metadata": {},
   "outputs": [
    {
     "data": {
      "text/plain": [
       "106123"
      ]
     },
     "execution_count": 5,
     "metadata": {},
     "output_type": "execute_result"
    }
   ],
   "source": [
    "len(data)"
   ]
  },
  {
   "cell_type": "code",
   "execution_count": 6,
   "metadata": {},
   "outputs": [],
   "source": [
    "insivumeh_columns = [\n",
    "    'rock_geo','rock_period','fis_nomr','rock_type',\n",
    "    'soil_rec_symbol','soil_rec_mat_origin','soil_rec_sew_class',\n",
    "    'soil_rec_tex_sup','soil_rec_c_tex_sup','soil_rec_tex_sub',\n",
    "    'soil_rec_c__tex_sub','soil_rec_risk_eros','soil_tax','soil_use'\n",
    "]\n",
    "\n",
    "for col in insivumeh_columns:\n",
    "    if '-999' in data[col].value_counts():\n",
    "        data.loc[data[col] == '-999', col] = pd.NA"
   ]
  },
  {
   "cell_type": "code",
   "execution_count": 7,
   "metadata": {},
   "outputs": [],
   "source": [
    "insivumeh_columns2 = [\n",
    "    'soil_rec_mat_origin','soil_rec_sew_class',\n",
    "    'soil_rec_tex_sup','soil_rec_c_tex_sup','soil_rec_tex_sub',\n",
    "    'soil_rec_c__tex_sub','soil_rec_risk_eros','soil_tax','soil_use'\n",
    "]\n",
    "for col in insivumeh_columns:\n",
    "        data.loc[data['soil_rec_symbol'] == 'AGUA', col] = 'AGUA'"
   ]
  },
  {
   "cell_type": "code",
   "execution_count": 8,
   "metadata": {},
   "outputs": [
    {
     "data": {
      "text/plain": [
       "rock_geo                        1105\n",
       "rock_period                     1107\n",
       "fis_nomr                        1107\n",
       "rock_type                       1233\n",
       "soil_rec_symbol                 1105\n",
       "soil_rec_mat_origin             4119\n",
       "soil_rec_sew_class              4899\n",
       "soil_rec_tex_sup                4952\n",
       "soil_rec_c_tex_sup              4952\n",
       "soil_rec_tex_sub                5697\n",
       "soil_rec_c__tex_sub             7992\n",
       "soil_rec_risk_eros              5489\n",
       "soil_tax                        1055\n",
       "soil_use                        1105\n",
       "precipitation_mm_last_7_days       9\n",
       "dtype: int64"
      ]
     },
     "execution_count": 8,
     "metadata": {},
     "output_type": "execute_result"
    }
   ],
   "source": [
    "na_data = data.isnull().sum()\n",
    "na_data[na_data > 0]"
   ]
  },
  {
   "cell_type": "code",
   "execution_count": 20,
   "metadata": {},
   "outputs": [],
   "source": [
    "data.dropna(subset=[*insivumeh_columns, 'precipitation_mm_last_7_days'], inplace=True)"
   ]
  },
  {
   "cell_type": "code",
   "execution_count": 21,
   "metadata": {},
   "outputs": [
    {
     "data": {
      "text/plain": [
       "Series([], dtype: int64)"
      ]
     },
     "execution_count": 21,
     "metadata": {},
     "output_type": "execute_result"
    }
   ],
   "source": [
    "na_data = data.isnull().sum()\n",
    "na_data[na_data > 0]"
   ]
  },
  {
   "cell_type": "code",
   "execution_count": 9,
   "metadata": {},
   "outputs": [
    {
     "data": {
      "text/plain": [
       "106123"
      ]
     },
     "execution_count": 9,
     "metadata": {},
     "output_type": "execute_result"
    }
   ],
   "source": [
    "len(data)"
   ]
  },
  {
   "cell_type": "code",
   "execution_count": 24,
   "metadata": {},
   "outputs": [],
   "source": [
    "data['landslide'].value_counts()"
   ]
  },
  {
   "cell_type": "code",
   "execution_count": null,
   "metadata": {},
   "outputs": [],
   "source": [
    "data2 = data\n",
    "data2['event_date'] = pd.to_datetime(data2['event_date'])"
   ]
  },
  {
   "cell_type": "code",
   "execution_count": null,
   "metadata": {},
   "outputs": [
    {
     "name": "stdout",
     "output_type": "stream",
     "text": [
      "2008 168\n",
      "2009 16\n",
      "2010 653\n",
      "2011 174\n",
      "2012 63\n",
      "2013 58\n",
      "2014 229\n",
      "2015 82\n",
      "2016 373\n",
      "2017 545\n",
      "2018 426\n",
      "2019 500\n",
      "2020 1242\n",
      "2021 555\n",
      "2022 147\n",
      "3870\n"
     ]
    }
   ],
   "source": [
    "sum = 0\n",
    "for year in range(2008,2023):\n",
    "    count = data2[data2.event_date.dt.year==year].count()\n",
    "    print(year,count['landslide'])\n",
    "    if year >= 2015:\n",
    "        sum += count['landslide']\n",
    "print(sum)"
   ]
  },
  {
   "cell_type": "code",
   "execution_count": null,
   "metadata": {},
   "outputs": [
    {
     "data": {
      "text/plain": [
       "0    2213\n",
       "1    1575\n",
       "Name: landslide, dtype: int64"
      ]
     },
     "execution_count": 15,
     "metadata": {},
     "output_type": "execute_result"
    }
   ],
   "source": [
    "data2[data2.event_date.dt.year > 2015]['landslide'].value_counts()"
   ]
  },
  {
   "cell_type": "code",
   "execution_count": 11,
   "metadata": {},
   "outputs": [],
   "source": [
    "data.to_csv(RES_DATA)  "
   ]
  }
 ],
 "metadata": {
  "kernelspec": {
   "display_name": "Python 3.10.5 ('geo_env')",
   "language": "python",
   "name": "python3"
  },
  "language_info": {
   "codemirror_mode": {
    "name": "ipython",
    "version": 3
   },
   "file_extension": ".py",
   "mimetype": "text/x-python",
   "name": "python",
   "nbconvert_exporter": "python",
   "pygments_lexer": "ipython3",
   "version": "3.9.12"
  },
  "orig_nbformat": 4,
  "vscode": {
   "interpreter": {
    "hash": "b9c0c391c6ceede039726100339536f42595e366b391c455e167086b0818566c"
   }
  }
 },
 "nbformat": 4,
 "nbformat_minor": 2
}
