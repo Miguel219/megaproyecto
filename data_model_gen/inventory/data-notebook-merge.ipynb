{
 "cells": [
  {
   "cell_type": "code",
   "execution_count": 4,
   "metadata": {},
   "outputs": [],
   "source": [
    "from osgeo import gdal\n",
    "import numpy as np\n",
    "import pandas as pd\n",
    "import richdem as rd\n",
    "import os\n",
    "import glob"
   ]
  },
  {
   "cell_type": "markdown",
   "metadata": {},
   "source": [
    "Constantes"
   ]
  },
  {
   "cell_type": "code",
   "execution_count": 42,
   "metadata": {},
   "outputs": [],
   "source": [
    "DATA_PATH = './results/data_all_10px_12000.csv'\n",
    "DATA_INSIVUMEH_PATH = './results/data_insivumeh_all_10px_12000.csv'\n",
    "RES_DATA = './results/data_train.csv'"
   ]
  },
  {
   "cell_type": "markdown",
   "metadata": {},
   "source": [
    "Graficar la data"
   ]
  },
  {
   "cell_type": "code",
   "execution_count": 35,
   "metadata": {},
   "outputs": [],
   "source": [
    "class DefaultMetaObj:\n",
    "    geotransform = [0,1,0,0,0,-1]\n",
    "\n",
    "class DataGenerator:\n",
    "    def __init__(self, data_directory_1, data_directory_2):\n",
    "        self.data1 = pd.read_csv(data_directory_1, index_col=0)\n",
    "        print(len(self.data1))\n",
    "        self.data1.drop_duplicates(keep='first', subset='landslide_id', inplace=True)\n",
    "        print(len(self.data1))\n",
    "        self.data2 = pd.read_csv(data_directory_2, index_col=0)\n",
    "        print(len(self.data2))\n",
    "        self.data2.drop_duplicates(keep='first', subset='landslide_id', inplace=True)\n",
    "        print(len(self.data2))\n",
    "\n",
    "    def getData(self):\n",
    "        output = pd.merge(self.data1, self.data2, how='inner', on='landslide_id')\n",
    "        return output"
   ]
  },
  {
   "cell_type": "code",
   "execution_count": 36,
   "metadata": {},
   "outputs": [
    {
     "name": "stdout",
     "output_type": "stream",
     "text": [
      "10808\n",
      "9742\n",
      "10190\n",
      "10190\n"
     ]
    }
   ],
   "source": [
    "dg = DataGenerator(DATA_PATH, DATA_INSIVUMEH_PATH)\n",
    "data = dg.getData()"
   ]
  },
  {
   "cell_type": "code",
   "execution_count": 37,
   "metadata": {},
   "outputs": [
    {
     "data": {
      "text/plain": [
       "9742"
      ]
     },
     "execution_count": 37,
     "metadata": {},
     "output_type": "execute_result"
    }
   ],
   "source": [
    "len(data)"
   ]
  },
  {
   "cell_type": "code",
   "execution_count": 38,
   "metadata": {},
   "outputs": [],
   "source": [
    "insivumeh_columns = [\n",
    "    'rock_geo','rock_period','fis_nomr','rock_type',\n",
    "    'soil_rec_symbol','soil_rec_mat_origin','soil_rec_sew_class',\n",
    "    'soil_rec_tex_sup','soil_rec_c_tex_sup','soil_rec_tex_sub',\n",
    "    'soil_rec_c__tex_sub','soil_rec_risk_eros','soil_tax','soil_use'\n",
    "]\n",
    "\n",
    "for col in insivumeh_columns:\n",
    "    if '-999' in data[col].value_counts():\n",
    "        data.loc[data[col] == '-999', col] = pd.NA"
   ]
  },
  {
   "cell_type": "code",
   "execution_count": 39,
   "metadata": {},
   "outputs": [],
   "source": [
    "insivumeh_columns2 = [\n",
    "    'soil_rec_mat_origin','soil_rec_sew_class',\n",
    "    'soil_rec_tex_sup','soil_rec_c_tex_sup','soil_rec_tex_sub',\n",
    "    'soil_rec_c__tex_sub','soil_rec_risk_eros','soil_tax','soil_use'\n",
    "]\n",
    "for col in insivumeh_columns:\n",
    "        data.loc[data['soil_rec_symbol'] == 'AGUA', col] = 'AGUA'"
   ]
  },
  {
   "cell_type": "code",
   "execution_count": 40,
   "metadata": {},
   "outputs": [
    {
     "data": {
      "text/plain": [
       "rock_geo                  6\n",
       "rock_period               6\n",
       "fis_nomr                  6\n",
       "rock_type                20\n",
       "soil_rec_symbol           6\n",
       "soil_rec_mat_origin     662\n",
       "soil_rec_sew_class      720\n",
       "soil_rec_tex_sup        731\n",
       "soil_rec_c_tex_sup      731\n",
       "soil_rec_tex_sub        818\n",
       "soil_rec_c__tex_sub    1212\n",
       "soil_rec_risk_eros      759\n",
       "soil_tax                  4\n",
       "soil_use                  6\n",
       "dtype: int64"
      ]
     },
     "execution_count": 40,
     "metadata": {},
     "output_type": "execute_result"
    }
   ],
   "source": [
    "na_data = data.isnull().sum()\n",
    "na_data[na_data > 0]"
   ]
  },
  {
   "cell_type": "code",
   "execution_count": 62,
   "metadata": {},
   "outputs": [],
   "source": [
    "data.dropna(subset=insivumeh_columns, inplace=True)"
   ]
  },
  {
   "cell_type": "code",
   "execution_count": 63,
   "metadata": {},
   "outputs": [
    {
     "data": {
      "text/plain": [
       "Series([], dtype: int64)"
      ]
     },
     "execution_count": 63,
     "metadata": {},
     "output_type": "execute_result"
    }
   ],
   "source": [
    "na_data = data.isnull().sum()\n",
    "na_data[na_data > 0]"
   ]
  },
  {
   "cell_type": "code",
   "execution_count": 41,
   "metadata": {},
   "outputs": [
    {
     "data": {
      "text/plain": [
       "9742"
      ]
     },
     "execution_count": 41,
     "metadata": {},
     "output_type": "execute_result"
    }
   ],
   "source": [
    "len(data)"
   ]
  },
  {
   "cell_type": "code",
   "execution_count": 65,
   "metadata": {},
   "outputs": [
    {
     "data": {
      "text/plain": [
       "0    6409\n",
       "1    3033\n",
       "Name: landslide, dtype: int64"
      ]
     },
     "execution_count": 65,
     "metadata": {},
     "output_type": "execute_result"
    }
   ],
   "source": [
    "data['landslide'].value_counts()"
   ]
  },
  {
   "cell_type": "code",
   "execution_count": 13,
   "metadata": {},
   "outputs": [],
   "source": [
    "data2 = data\n",
    "data2['event_date'] = pd.to_datetime(data2['event_date'])"
   ]
  },
  {
   "cell_type": "code",
   "execution_count": 14,
   "metadata": {},
   "outputs": [
    {
     "name": "stdout",
     "output_type": "stream",
     "text": [
      "2008 168\n",
      "2009 16\n",
      "2010 653\n",
      "2011 174\n",
      "2012 63\n",
      "2013 58\n",
      "2014 229\n",
      "2015 82\n",
      "2016 373\n",
      "2017 545\n",
      "2018 426\n",
      "2019 500\n",
      "2020 1242\n",
      "2021 555\n",
      "2022 147\n",
      "3870\n"
     ]
    }
   ],
   "source": [
    "sum = 0\n",
    "for year in range(2008,2023):\n",
    "    count = data2[data2.event_date.dt.year==year].count()\n",
    "    print(year,count['landslide'])\n",
    "    if year >= 2015:\n",
    "        sum += count['landslide']\n",
    "print(sum)"
   ]
  },
  {
   "cell_type": "code",
   "execution_count": 15,
   "metadata": {},
   "outputs": [
    {
     "data": {
      "text/plain": [
       "0    2213\n",
       "1    1575\n",
       "Name: landslide, dtype: int64"
      ]
     },
     "execution_count": 15,
     "metadata": {},
     "output_type": "execute_result"
    }
   ],
   "source": [
    "data2[data2.event_date.dt.year > 2015]['landslide'].value_counts()"
   ]
  },
  {
   "cell_type": "code",
   "execution_count": 43,
   "metadata": {},
   "outputs": [],
   "source": [
    "data.to_csv(RES_DATA)  "
   ]
  }
 ],
 "metadata": {
  "kernelspec": {
   "display_name": "Python 3.10.5 ('geo_env')",
   "language": "python",
   "name": "python3"
  },
  "language_info": {
   "codemirror_mode": {
    "name": "ipython",
    "version": 3
   },
   "file_extension": ".py",
   "mimetype": "text/x-python",
   "name": "python",
   "nbconvert_exporter": "python",
   "pygments_lexer": "ipython3",
   "version": "3.9.12"
  },
  "orig_nbformat": 4,
  "vscode": {
   "interpreter": {
    "hash": "b9c0c391c6ceede039726100339536f42595e366b391c455e167086b0818566c"
   }
  }
 },
 "nbformat": 4,
 "nbformat_minor": 2
}
