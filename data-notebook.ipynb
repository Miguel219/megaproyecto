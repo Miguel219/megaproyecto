{
 "cells": [
  {
   "cell_type": "code",
   "execution_count": 1,
   "metadata": {},
   "outputs": [],
   "source": [
    "from osgeo import gdal\n",
    "import numpy as np\n",
    "import pandas as pd\n",
    "import richdem as rd\n",
    "import os\n",
    "import glob"
   ]
  },
  {
   "cell_type": "markdown",
   "metadata": {},
   "source": [
    "Constantes"
   ]
  },
  {
   "cell_type": "code",
   "execution_count": 2,
   "metadata": {},
   "outputs": [],
   "source": [
    "PATH = './data-sentinel-2'"
   ]
  },
  {
   "cell_type": "markdown",
   "metadata": {},
   "source": [
    "Graficar la data"
   ]
  },
  {
   "cell_type": "code",
   "execution_count": 3,
   "metadata": {},
   "outputs": [],
   "source": [
    "class DefaultMetaObj:\n",
    "    geotransform = [0,1,0,0,0,-1]\n",
    "\n",
    "class DataGenerator:\n",
    "    def __init__(self, directory):\n",
    "        files = []\n",
    "        files.extend(glob.glob(os.path.join(directory, \"pre_landslide_test_*.tif\")))\n",
    "        self.files = sorted(files)\n",
    "    \n",
    "    def __getitem__(self, index: int):   \n",
    "        filename = self.files[index]\n",
    "        fileId = os.path.split(filename)[1].replace(\"pre_landslide_test_\", \"\").replace(\".tif\", \"\")\n",
    "        gdal_data = gdal.Open(filename)\n",
    "        bands = { gdal_data.GetRasterBand(i + 1).GetDescription(): i for i in range(gdal_data.RasterCount) }\n",
    "        \n",
    "        for band in bands.keys():\n",
    "            bands[band] = gdal_data.ReadAsArray().astype(float)[bands[band]]\n",
    "\n",
    "        return fileId, bands\n",
    "\n",
    "    def __center_crop__(self, img, new_width=None, new_height=None):        \n",
    "\n",
    "        width = img.shape[1]\n",
    "        height = img.shape[0]\n",
    "\n",
    "        if new_width is None:\n",
    "            new_width = min(width, height)\n",
    "\n",
    "        if new_height is None:\n",
    "            new_height = min(width, height)\n",
    "\n",
    "        left = int(np.ceil((width - new_width) / 2))\n",
    "        right = width - int(np.floor((width - new_width) / 2))\n",
    "\n",
    "        top = int(np.ceil((height - new_height) / 2))\n",
    "        bottom = height - int(np.floor((height - new_height) / 2))\n",
    "\n",
    "        if len(img.shape) == 2:\n",
    "            center_cropped_img = img[top:bottom, left:right]\n",
    "        else:\n",
    "            center_cropped_img = img[top:bottom, left:right, ...]\n",
    "\n",
    "        return center_cropped_img\n",
    "\n",
    "    def getData(self):\n",
    "        output = pd.DataFrame()\n",
    "        for i in range(len(self.files)):\n",
    "            dictData = dict()\n",
    "            fileId, data = self.__getitem__(i)\n",
    "            \n",
    "            # Elevation\n",
    "            elevation = rd.rdarray(data['elevation'], no_data=np.nan, meta_obj=DefaultMetaObj())\n",
    "\n",
    "\n",
    "            # Slope (percentage)\n",
    "            slope = rd.TerrainAttribute(elevation, attrib='slope_percentage', zscale=0.1)\n",
    "            slope =  self.__center_crop__(slope, 5, 5)\n",
    "            dictData.update({\n",
    "                'slope_1': slope[0][0], 'slope_6': slope[0][1],  'slope_11': slope[0][2], 'slope_16': slope[0][3], 'slope_21': slope[0][4], \n",
    "                'slope_2': slope[1][0], 'slope_7': slope[1][1],  'slope_12': slope[1][2], 'slope_17': slope[1][3], 'slope_22': slope[1][4], \n",
    "                'slope_3': slope[2][0], 'slope_8': slope[2][1],  'slope_13': slope[2][2], 'slope_18': slope[2][3], 'slope_23': slope[2][4], \n",
    "                'slope_4': slope[3][0], 'slope_9': slope[3][1],  'slope_14': slope[3][2], 'slope_19': slope[3][3], 'slope_24': slope[3][4], \n",
    "                'slope_5': slope[4][0], 'slope_10': slope[4][1], 'slope_15': slope[4][2], 'slope_20': slope[4][3], 'slope_25': slope[4][4]\n",
    "            })\n",
    "            \n",
    "            # Aspect\n",
    "            aspect = rd.TerrainAttribute(elevation, attrib='aspect', zscale=0.1)\n",
    "            aspect =  self.__center_crop__(aspect, 5, 5)\n",
    "            dictData.update({\n",
    "                'aspect_1': aspect[0][0], 'aspect_6': aspect[0][1],  'aspect_11': aspect[0][2], 'aspect_16': aspect[0][3], 'aspect_21': aspect[0][4], \n",
    "                'aspect_2': aspect[1][0], 'aspect_7': aspect[1][1],  'aspect_12': aspect[1][2], 'aspect_17': aspect[1][3], 'aspect_22': aspect[1][4], \n",
    "                'aspect_3': aspect[2][0], 'aspect_8': aspect[2][1],  'aspect_13': aspect[2][2], 'aspect_18': aspect[2][3], 'aspect_23': aspect[2][4], \n",
    "                'aspect_4': aspect[3][0], 'aspect_9': aspect[3][1],  'aspect_14': aspect[3][2], 'aspect_19': aspect[3][3], 'aspect_24': aspect[3][4], \n",
    "                'aspect_5': aspect[4][0], 'aspect_10': aspect[4][1], 'aspect_15': aspect[4][2], 'aspect_20': aspect[4][3], 'aspect_25': aspect[4][4]\n",
    "            })\n",
    "            \n",
    "            # Curvature\n",
    "            curvature = rd.TerrainAttribute(elevation, attrib='curvature', zscale=0.1)\n",
    "            curvature =  self.__center_crop__(curvature, 5, 5)\n",
    "            dictData.update({\n",
    "                'curvature_1': curvature[0][0], 'curvature_6': curvature[0][1],  'curvature_11': curvature[0][2], 'curvature_16': curvature[0][3], 'curvature_21': curvature[0][4], \n",
    "                'curvature_2': curvature[1][0], 'curvature_7': curvature[1][1],  'curvature_12': curvature[1][2], 'curvature_17': curvature[1][3], 'curvature_22': curvature[1][4], \n",
    "                'curvature_3': curvature[2][0], 'curvature_8': curvature[2][1],  'curvature_13': curvature[2][2], 'curvature_18': curvature[2][3], 'curvature_23': curvature[2][4], \n",
    "                'curvature_4': curvature[3][0], 'curvature_9': curvature[3][1],  'curvature_14': curvature[3][2], 'curvature_19': curvature[3][3], 'curvature_24': curvature[3][4], \n",
    "                'curvature_5': curvature[4][0], 'curvature_10': curvature[4][1], 'curvature_15': curvature[4][2], 'curvature_20': curvature[4][3], 'curvature_25': curvature[4][4]\n",
    "            })\n",
    "\n",
    "            # Save in dataframe\n",
    "            output = pd.concat([output, pd.DataFrame(dictData, index=[fileId])])\n",
    "        return output\n",
    "            "
   ]
  },
  {
   "cell_type": "code",
   "execution_count": 4,
   "metadata": {},
   "outputs": [],
   "source": [
    "dg = DataGenerator(PATH)\n",
    "data = dg.getData()"
   ]
  },
  {
   "cell_type": "code",
   "execution_count": null,
   "metadata": {},
   "outputs": [],
   "source": [
    "data.to_csv('./results/data.csv')  "
   ]
  }
 ],
 "metadata": {
  "kernelspec": {
   "display_name": "Python 3.10.5 ('geo_env')",
   "language": "python",
   "name": "python3"
  },
  "language_info": {
   "codemirror_mode": {
    "name": "ipython",
    "version": 3
   },
   "file_extension": ".py",
   "mimetype": "text/x-python",
   "name": "python",
   "nbconvert_exporter": "python",
   "pygments_lexer": "ipython3",
   "version": "3.9.12"
  },
  "orig_nbformat": 4,
  "vscode": {
   "interpreter": {
    "hash": "b9c0c391c6ceede039726100339536f42595e366b391c455e167086b0818566c"
   }
  }
 },
 "nbformat": 4,
 "nbformat_minor": 2
}
