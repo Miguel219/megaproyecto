{
 "cells": [
  {
   "cell_type": "code",
   "execution_count": 1,
   "metadata": {},
   "outputs": [],
   "source": [
    "from pyidw import idw\n",
    "from matplotlib import pyplot as plt"
   ]
  },
  {
   "cell_type": "code",
   "execution_count": 249,
   "metadata": {},
   "outputs": [],
   "source": [
    "import rasterio\n",
    "from rasterio.mask import mask\n",
    "from rasterio.plot import show\n",
    "from rasterio.crs import CRS\n",
    "from rasterio.transform import from_bounds\n",
    "import fiona\n",
    "import numpy as np\n",
    "from rasterio.enums import Resampling\n",
    "from sklearn.metrics import r2_score\n",
    "from sklearn.model_selection import LeaveOneOut\n",
    "from matplotlib import colors\n",
    "import numpy as np\n",
    "import os\n",
    "import matplotlib.pyplot as plt\n",
    "from matplotlib import cm\n",
    "from sctriangulate.colors import build_custom_continuous_cmap\n",
    "from matplotlib.colors import ListedColormap\n",
    "from matplotlib.patches import Patch\n",
    "new_cmap = build_custom_continuous_cmap([255,255,178],[254,204,92],[253,141,60],[240,59,32],[348,100,74])\n",
    "new_cmap = ListedColormap([\"#ffffb2\", \"#fecc5c\", \"#fd8d3c\", \"#f03b20\",\"#bd0026\"])\n",
    "# Define a normalization from values -> colors\n",
    "norm = colors.BoundaryNorm([0, 0.2, 0.4, 0.6, 0.8,1], 6)\n",
    "\n",
    "def show_map_5(input_raster='',model=\"\", colormap='coolwarm', image_size=2, return_figure=False):\n",
    "    with rasterio.open(input_raster) as image_data:\n",
    "        my_matrix = image_data.read(1)\n",
    "        my_matrix = np.ma.masked_where(my_matrix == 32767, my_matrix)\n",
    "        fig, ax = plt.subplots()\n",
    "        image_hidden = ax.imshow(my_matrix, cmap=new_cmap, norm=norm)\n",
    "       \n",
    "        plt.close()\n",
    "\n",
    "        fig, ax = plt.subplots()\n",
    "        fig.set_facecolor(\"w\")\n",
    "        width = fig.get_size_inches()[0] * image_size \n",
    "        height = fig.get_size_inches()[1] * image_size\n",
    "        fig.set_size_inches(w=width, h=height)\n",
    "        ac = show(image_data, cmap=new_cmap, norm=norm,ax=ax)\n",
    "\n",
    "       \n",
    "        \n",
    "         # Add a legend for labels\n",
    "        \n",
    "        legend_labels = {\"#ffffb2\":\"Muy Baja\",\n",
    "                        \"#fecc5c\": \"Baja\", \n",
    "                        \"#fd8d3c\": \"Media\", \n",
    "                        \"#f03b20\": \"Alto\",\n",
    "                        \"#bd0026\": \"Muy Alta\"}\n",
    "        patches = [Patch(color=color, label=label)\n",
    "                for color, label in legend_labels.items()]\n",
    "        \n",
    "        ax.legend( handles=patches,\n",
    "          bbox_to_anchor=(1.3, 1),\n",
    "          fancybox=True,\n",
    "          title=\"Clase\",\n",
    "          facecolor=\"white\",)\n",
    "       \n",
    "        cbar = fig.colorbar(image_hidden, ax=ax, pad=0.07,location=\"bottom\",shrink=0.6, label=\"\")\n",
    "        # ax.set_title(\"Mapa de Susceptibilidad {}\".format(model))\n",
    "        ax.set_xlabel(\"Longitud\")\n",
    "        ax.set_ylabel(\"Latitud\")\n",
    "        cbar.set_label(\"Susceptibilidad\")\n",
    "        if return_figure == False:\n",
    "            plt.show()\n",
    "           \n",
    "        else:\n",
    "            return fig, ax, cbar"
   ]
  },
  {
   "cell_type": "code",
   "execution_count": 243,
   "metadata": {},
   "outputs": [],
   "source": [
    "import rasterio\n",
    "from rasterio.mask import mask\n",
    "from rasterio.plot import show\n",
    "from rasterio.crs import CRS\n",
    "from rasterio.transform import from_bounds\n",
    "import fiona\n",
    "import numpy as np\n",
    "from rasterio.enums import Resampling\n",
    "from sklearn.metrics import r2_score\n",
    "from sklearn.model_selection import LeaveOneOut\n",
    "from matplotlib import colors\n",
    "import numpy as np\n",
    "import os\n",
    "import matplotlib.pyplot as plt\n",
    "from matplotlib import cm\n",
    "from sctriangulate.colors import build_custom_continuous_cmap\n",
    "from matplotlib.colors import ListedColormap\n",
    "from matplotlib.patches import Patch\n",
    "new_cmap = build_custom_continuous_cmap([255,255,178],[254,204,92],[253,141,60],[240,59,32],[348,100,74])\n",
    "new_cmap = ListedColormap([\"#ffffb2\",  \"#fd8d3c\",\"#bd0026\"])\n",
    "# Define a normalization from values -> colors\n",
    "norm = colors.BoundaryNorm([0, 0.33, 0.66,1], 4)\n",
    "\n",
    "def show_map_3(input_raster='',model=\"\", colormap='coolwarm', image_size=2, return_figure=False):\n",
    "    with rasterio.open(input_raster) as image_data:\n",
    "        my_matrix = image_data.read(1)\n",
    "        my_matrix = np.ma.masked_where(my_matrix == 32767, my_matrix)\n",
    "        fig, ax = plt.subplots()\n",
    "        image_hidden = ax.imshow(my_matrix, cmap=new_cmap, norm=norm)\n",
    "       \n",
    "        plt.close()\n",
    "\n",
    "        fig, ax = plt.subplots()\n",
    "        fig.set_facecolor(\"w\")\n",
    "        width = fig.get_size_inches()[0] * image_size \n",
    "        height = fig.get_size_inches()[1] * image_size\n",
    "        fig.set_size_inches(w=width, h=height)\n",
    "        ac = show(image_data, cmap=new_cmap, norm=norm,ax=ax)\n",
    "\n",
    "       \n",
    "        \n",
    "         # Add a legend for labels\n",
    "        \n",
    "        legend_labels = {\"#ffffb2\":\"Baja\",\n",
    "                        \"#fd8d3c\": \"Media\", \n",
    "                        \"#bd0026\": \"Alta\"}\n",
    "        patches = [Patch(color=color, label=label)\n",
    "                for color, label in legend_labels.items()]\n",
    "        \n",
    "        ax.legend( handles=patches,\n",
    "          bbox_to_anchor=(1.3, 1),\n",
    "          fancybox=True,\n",
    "          title=\"Clase\",\n",
    "          facecolor=\"white\",)\n",
    "       \n",
    "        cbar = fig.colorbar(image_hidden, ax=ax, pad=0.07,location=\"bottom\",shrink=0.6, label=\"\")\n",
    "        ax.set_title(\"Mapa de Susceptibilidad {}\".format(model))\n",
    "        ax.set_xlabel(\"Longitud\")\n",
    "        ax.set_ylabel(\"Latitud\")\n",
    "        cbar.set_label(\"Susceptibilidad\")\n",
    "        if return_figure == False:\n",
    "            plt.show()\n",
    "           \n",
    "        else:\n",
    "            return fig, ax, cbar"
   ]
  },
  {
   "cell_type": "code",
   "execution_count": 267,
   "metadata": {},
   "outputs": [
    {
     "data": {
      "image/png": "[encoded data removed]",
      "text/plain": [
       "<Figure size 864x576 with 2 Axes>"
      ]
     },
     "metadata": {},
     "output_type": "display_data"
    }
   ],
   "source": [
    "show_map_5('./shapes/shapes_normal/xgboost_suc_clipped.tif',\"Support Vector Machine\")"
   ]
  }
 ],
 "metadata": {
  "kernelspec": {
   "display_name": "Python 3.9.5 64-bit",
   "language": "python",
   "name": "python3"
  },
  "language_info": {
   "codemirror_mode": {
    "name": "ipython",
    "version": 3
   },
   "file_extension": ".py",
   "mimetype": "text/x-python",
   "name": "python",
   "nbconvert_exporter": "python",
   "pygments_lexer": "ipython3",
   "version": "3.9.5"
  },
  "orig_nbformat": 4,
  "vscode": {
   "interpreter": {
    "hash": "c2bb2e97071d6f6d71a511e7c5a65101a5b027acb6e061939bdcc6bbc980cab9"
   }
  }
 },
 "nbformat": 4,
 "nbformat_minor": 2
}
