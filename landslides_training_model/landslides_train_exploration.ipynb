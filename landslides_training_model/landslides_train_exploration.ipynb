{
 "cells": [
  {
   "cell_type": "markdown",
   "metadata": {},
   "source": [
    "We start training different models and evaluate results"
   ]
  },
  {
   "cell_type": "markdown",
   "metadata": {},
   "source": [
    "## Loading Data"
   ]
  },
  {
   "cell_type": "code",
   "execution_count": 1,
   "metadata": {},
   "outputs": [],
   "source": [
    "# Import libraries needed\n",
    "import pandas as pd\n"
   ]
  },
  {
   "cell_type": "code",
   "execution_count": 2,
   "metadata": {},
   "outputs": [],
   "source": [
    "PATH_INPUT_CSV = './data_train_merged.csv'\n"
   ]
  },
  {
   "cell_type": "code",
   "execution_count": 3,
   "metadata": {},
   "outputs": [],
   "source": [
    "# We read Excel with Historic data of landslides and other events\n",
    "training = pd.read_csv(PATH_INPUT_CSV,index_col=0)\n"
   ]
  },
  {
   "cell_type": "code",
   "execution_count": 4,
   "metadata": {},
   "outputs": [
    {
     "data": {
      "text/plain": [
       "8445"
      ]
     },
     "execution_count": 4,
     "metadata": {},
     "output_type": "execute_result"
    }
   ],
   "source": [
    "len(training.landslide_id.unique())"
   ]
  },
  {
   "cell_type": "markdown",
   "metadata": {},
   "source": [
    "## Preprocessing\n"
   ]
  },
  {
   "cell_type": "markdown",
   "metadata": {},
   "source": [
    "We process features and generate training data and test data"
   ]
  },
  {
   "cell_type": "code",
   "execution_count": 5,
   "metadata": {},
   "outputs": [],
   "source": [
    "# Import skleran preprocessing\n",
    "from sklearn.model_selection import train_test_split\n",
    "from sklearn import preprocessing"
   ]
  },
  {
   "cell_type": "code",
   "execution_count": 37,
   "metadata": {},
   "outputs": [],
   "source": [
    "df = training"
   ]
  },
  {
   "cell_type": "code",
   "execution_count": 7,
   "metadata": {},
   "outputs": [
    {
     "data": {
      "text/plain": [
       "['landslide_id',\n",
       " 'precipitation_mm_last_7_days',\n",
       " 'latitude',\n",
       " 'longitude',\n",
       " 'landslide',\n",
       " 'event_date',\n",
       " 'rock_geo',\n",
       " 'rock_period',\n",
       " 'fis_nomr',\n",
       " 'rock_type',\n",
       " 'soil_rec_symbol',\n",
       " 'soil_rec_mat_origin',\n",
       " 'soil_rec_sew_class',\n",
       " 'soil_rec_tex_sup',\n",
       " 'soil_rec_c_tex_sup',\n",
       " 'soil_rec_tex_sub',\n",
       " 'soil_rec_c__tex_sub',\n",
       " 'soil_rec_risk_eros',\n",
       " 'soil_tax',\n",
       " 'soil_use',\n",
       " 'satellite',\n",
       " 'elevation_1',\n",
       " 'elevation_6',\n",
       " 'elevation_11',\n",
       " 'elevation_16',\n",
       " 'elevation_21',\n",
       " 'elevation_2',\n",
       " 'elevation_7',\n",
       " 'elevation_12',\n",
       " 'elevation_17',\n",
       " 'elevation_22',\n",
       " 'elevation_3',\n",
       " 'elevation_8',\n",
       " 'elevation_13',\n",
       " 'elevation_18',\n",
       " 'elevation_23',\n",
       " 'elevation_4',\n",
       " 'elevation_9',\n",
       " 'elevation_14',\n",
       " 'elevation_19',\n",
       " 'elevation_24',\n",
       " 'elevation_5',\n",
       " 'elevation_10',\n",
       " 'elevation_15',\n",
       " 'elevation_20',\n",
       " 'elevation_25',\n",
       " 'slope_1',\n",
       " 'slope_6',\n",
       " 'slope_11',\n",
       " 'slope_16',\n",
       " 'slope_21',\n",
       " 'slope_2',\n",
       " 'slope_7',\n",
       " 'slope_12',\n",
       " 'slope_17',\n",
       " 'slope_22',\n",
       " 'slope_3',\n",
       " 'slope_8',\n",
       " 'slope_13',\n",
       " 'slope_18',\n",
       " 'slope_23',\n",
       " 'slope_4',\n",
       " 'slope_9',\n",
       " 'slope_14',\n",
       " 'slope_19',\n",
       " 'slope_24',\n",
       " 'slope_5',\n",
       " 'slope_10',\n",
       " 'slope_15',\n",
       " 'slope_20',\n",
       " 'slope_25',\n",
       " 'aspect_1',\n",
       " 'aspect_6',\n",
       " 'aspect_11',\n",
       " 'aspect_16',\n",
       " 'aspect_21',\n",
       " 'aspect_2',\n",
       " 'aspect_7',\n",
       " 'aspect_12',\n",
       " 'aspect_17',\n",
       " 'aspect_22',\n",
       " 'aspect_3',\n",
       " 'aspect_8',\n",
       " 'aspect_13',\n",
       " 'aspect_18',\n",
       " 'aspect_23',\n",
       " 'aspect_4',\n",
       " 'aspect_9',\n",
       " 'aspect_14',\n",
       " 'aspect_19',\n",
       " 'aspect_24',\n",
       " 'aspect_5',\n",
       " 'aspect_10',\n",
       " 'aspect_15',\n",
       " 'aspect_20',\n",
       " 'aspect_25',\n",
       " 'placurv_1',\n",
       " 'placurv_6',\n",
       " 'placurv_11',\n",
       " 'placurv_16',\n",
       " 'placurv_21',\n",
       " 'placurv_2',\n",
       " 'placurv_7',\n",
       " 'placurv_12',\n",
       " 'placurv_17',\n",
       " 'placurv_22',\n",
       " 'placurv_3',\n",
       " 'placurv_8',\n",
       " 'placurv_13',\n",
       " 'placurv_18',\n",
       " 'placurv_23',\n",
       " 'placurv_4',\n",
       " 'placurv_9',\n",
       " 'placurv_14',\n",
       " 'placurv_19',\n",
       " 'placurv_24',\n",
       " 'placurv_5',\n",
       " 'placurv_10',\n",
       " 'placurv_15',\n",
       " 'placurv_20',\n",
       " 'placurv_25',\n",
       " 'procurv_1',\n",
       " 'procurv_6',\n",
       " 'procurv_11',\n",
       " 'procurv_16',\n",
       " 'procurv_21',\n",
       " 'procurv_2',\n",
       " 'procurv_7',\n",
       " 'procurv_12',\n",
       " 'procurv_17',\n",
       " 'procurv_22',\n",
       " 'procurv_3',\n",
       " 'procurv_8',\n",
       " 'procurv_13',\n",
       " 'procurv_18',\n",
       " 'procurv_23',\n",
       " 'procurv_4',\n",
       " 'procurv_9',\n",
       " 'procurv_14',\n",
       " 'procurv_19',\n",
       " 'procurv_24',\n",
       " 'procurv_5',\n",
       " 'procurv_10',\n",
       " 'procurv_15',\n",
       " 'procurv_20',\n",
       " 'procurv_25']"
      ]
     },
     "execution_count": 7,
     "metadata": {},
     "output_type": "execute_result"
    }
   ],
   "source": [
    "list(training.columns)"
   ]
  },
  {
   "cell_type": "code",
   "execution_count": 38,
   "metadata": {},
   "outputs": [],
   "source": [
    "# We use a label encoder for each of the columns of categories\n",
    "features_string = [ \n",
    " 'soil_tax',\n",
    " 'satellite',\n",
    " 'soil_rec_symbol',\n",
    " 'soil_rec_mat_origin',\n",
    " 'soil_rec_sew_class',\n",
    " 'soil_rec_tex_sup',\n",
    " 'soil_rec_c_tex_sup',\n",
    " 'soil_rec_tex_sub',\n",
    " 'soil_rec_c__tex_sub',\n",
    " 'soil_rec_risk_eros',\n",
    " 'fis_nomr',\n",
    " 'soil_use',\n",
    " 'rock_geo',\n",
    " 'rock_type',\n",
    " 'rock_period']\n",
    "for feature in features_string:\n",
    "    le = preprocessing.LabelEncoder()\n",
    "    le.fit(df[feature])\n",
    "    df[feature] = le.transform(df[feature])"
   ]
  },
  {
   "cell_type": "code",
   "execution_count": 39,
   "metadata": {},
   "outputs": [],
   "source": [
    "from sklearn.preprocessing import StandardScaler\n",
    "  \n",
    "features_scaler = [ \n",
    " # #     'elevation_1',\n",
    "# #  'elevation_6',\n",
    "# #  'elevation_11',\n",
    "# #  'elevation_16',\n",
    "# #  'elevation_21',\n",
    "# #  'elevation_2',\n",
    "# #  'elevation_7',\n",
    "# #  'elevation_12',\n",
    "# #  'elevation_17',\n",
    "# #  'elevation_22',\n",
    " 'elevation_3',\n",
    " 'elevation_8',\n",
    " 'elevation_13',\n",
    " 'elevation_18',\n",
    " 'elevation_23',\n",
    "# #  'elevation_4',\n",
    "# #  'elevation_9',\n",
    "# #  'elevation_14',\n",
    "# #  'elevation_19',\n",
    "# #  'elevation_24',\n",
    "# #  'elevation_5',\n",
    "# #  'elevation_10',\n",
    "# #  'elevation_15',\n",
    "# #  'elevation_20',\n",
    "# #  'elevation_25',\n",
    "# #  'slope_1',\n",
    "# #  'slope_6',\n",
    "# #  'slope_11',\n",
    "# #  'slope_16',\n",
    "# #  'slope_21',\n",
    "# #  'slope_2',\n",
    "# #  'slope_7',\n",
    "# #  'slope_12',\n",
    "# #  'slope_17',\n",
    "# #  'slope_22',\n",
    " 'slope_3',\n",
    " 'slope_8',\n",
    " 'slope_13',\n",
    " 'slope_18',\n",
    " 'slope_23',\n",
    "# #  'slope_4',\n",
    "# #  'slope_9',\n",
    "# #  'slope_14',\n",
    "# #  'slope_19',\n",
    "# #  'slope_24',\n",
    "# #  'slope_5',\n",
    "# #  'slope_10',\n",
    "# #  'slope_15',\n",
    "# #  'slope_20',\n",
    "# #  'slope_25',\n",
    "# #  'aspect_1',\n",
    "# #  'aspect_6',\n",
    "# #  'aspect_11',\n",
    "# #  'aspect_16',\n",
    "# #  'aspect_21',\n",
    "# #  'aspect_2',\n",
    "# #  'aspect_7',\n",
    "# #  'aspect_12',\n",
    "# #  'aspect_17',\n",
    "# #  'aspect_22',\n",
    " 'aspect_3',\n",
    " 'aspect_8',\n",
    " 'aspect_13',\n",
    " 'aspect_18',\n",
    " 'aspect_23',\n",
    "# #  'aspect_4',\n",
    "# #  'aspect_9',\n",
    "# #  'aspect_14',\n",
    "# #  'aspect_19',\n",
    "# #  'aspect_24',\n",
    "# #  'aspect_5',\n",
    "# #  'aspect_10',\n",
    "# #  'aspect_15',\n",
    "# #  'aspect_20',\n",
    "# #  'aspect_25',\n",
    "# #  'placurv_1',\n",
    "# #  'placurv_6',\n",
    "# #  'placurv_11',\n",
    "# #  'placurv_16',\n",
    "# #  'placurv_21',\n",
    "# #  'placurv_2',\n",
    "# #  'placurv_7',\n",
    "# #  'placurv_12',\n",
    "# #  'placurv_17',\n",
    "# #  'placurv_22',\n",
    " 'placurv_3',\n",
    " 'placurv_8',\n",
    " 'placurv_13',\n",
    " 'placurv_18',\n",
    " 'placurv_23',\n",
    "# #  'placurv_4',\n",
    "# #  'placurv_9',\n",
    "# #  'placurv_14',\n",
    "# #  'placurv_19',\n",
    "# #  'placurv_24',\n",
    "# #  'placurv_5',\n",
    "# #  'placurv_10',\n",
    "# #  'placurv_15',\n",
    "# #  'placurv_20',\n",
    "# #  'placurv_25',\n",
    "# #  'procurv_1',\n",
    "# #  'procurv_6',\n",
    "# #  'procurv_11',\n",
    "# #  'procurv_16',\n",
    "# #  'procurv_21',\n",
    "# #  'procurv_2',\n",
    "# #  'procurv_7',\n",
    "# #  'procurv_12',\n",
    "# #  'procurv_17',\n",
    "# #  'procurv_22',\n",
    " 'procurv_3',\n",
    " 'procurv_8',\n",
    " 'procurv_13',\n",
    " 'procurv_18',\n",
    " 'procurv_23',\n",
    "# #  'procurv_4',\n",
    "# #  'procurv_9',\n",
    "# #  'procurv_14',\n",
    "# #  'procurv_19',\n",
    "# #  'procurv_24',\n",
    "# #  'procurv_5',\n",
    "# #  'procurv_10',\n",
    "# #  'procurv_15',\n",
    "# #  'procurv_20',\n",
    "# #  'procurv_25',\n",
    "# #  'latitude',\n",
    "# #  'longitude',\n",
    "# # 'event_date',\n",
    "# #  'departamento',\n",
    "# #  'municipio',\n",
    "# #  'incident',\n",
    "# #  'image_name'\n",
    " 'precipitation_mm_last_7_days']\n",
    "\n",
    "from sklearn.preprocessing import StandardScaler\n",
    "\n",
    "scaler = StandardScaler()\n",
    "scaler.fit(df[features_scaler])\n",
    "df[features_scaler] = scaler.transform(df[features_scaler])"
   ]
  },
  {
   "cell_type": "code",
   "execution_count": 40,
   "metadata": {},
   "outputs": [],
   "source": [
    "features = [\n",
    "# #     'elevation_1',\n",
    "# #  'elevation_6',\n",
    "# #  'elevation_11',\n",
    "# #  'elevation_16',\n",
    "# #  'elevation_21',\n",
    "# #  'elevation_2',\n",
    "# #  'elevation_7',\n",
    "# #  'elevation_12',\n",
    "# #  'elevation_17',\n",
    "# #  'elevation_22',\n",
    " 'elevation_3',\n",
    " 'elevation_8',\n",
    " 'elevation_13',\n",
    " 'elevation_18',\n",
    " 'elevation_23',\n",
    "# #  'elevation_4',\n",
    "# #  'elevation_9',\n",
    "# #  'elevation_14',\n",
    "# #  'elevation_19',\n",
    "# #  'elevation_24',\n",
    "# #  'elevation_5',\n",
    "# #  'elevation_10',\n",
    "# #  'elevation_15',\n",
    "# #  'elevation_20',\n",
    "# #  'elevation_25',\n",
    "# #  'slope_1',\n",
    "# #  'slope_6',\n",
    "# #  'slope_11',\n",
    "# #  'slope_16',\n",
    "# #  'slope_21',\n",
    "# #  'slope_2',\n",
    "# #  'slope_7',\n",
    "# #  'slope_12',\n",
    "# #  'slope_17',\n",
    "# #  'slope_22',\n",
    " 'slope_3',\n",
    " 'slope_8',\n",
    " 'slope_13',\n",
    " 'slope_18',\n",
    " 'slope_23',\n",
    "# #  'slope_4',\n",
    "# #  'slope_9',\n",
    "# #  'slope_14',\n",
    "# #  'slope_19',\n",
    "# #  'slope_24',\n",
    "# #  'slope_5',\n",
    "# #  'slope_10',\n",
    "# #  'slope_15',\n",
    "# #  'slope_20',\n",
    "# #  'slope_25',\n",
    "# #  'aspect_1',\n",
    "# #  'aspect_6',\n",
    "# #  'aspect_11',\n",
    "# #  'aspect_16',\n",
    "# #  'aspect_21',\n",
    "# #  'aspect_2',\n",
    "# #  'aspect_7',\n",
    "# #  'aspect_12',\n",
    "# #  'aspect_17',\n",
    "# #  'aspect_22',\n",
    " 'aspect_3',\n",
    " 'aspect_8',\n",
    " 'aspect_13',\n",
    " 'aspect_18',\n",
    " 'aspect_23',\n",
    "# #  'aspect_4',\n",
    "# #  'aspect_9',\n",
    "# #  'aspect_14',\n",
    "# #  'aspect_19',\n",
    "# #  'aspect_24',\n",
    "# #  'aspect_5',\n",
    "# #  'aspect_10',\n",
    "# #  'aspect_15',\n",
    "# #  'aspect_20',\n",
    "# #  'aspect_25',\n",
    "# #  'placurv_1',\n",
    "# #  'placurv_6',\n",
    "# #  'placurv_11',\n",
    "# #  'placurv_16',\n",
    "# #  'placurv_21',\n",
    "# #  'placurv_2',\n",
    "# #  'placurv_7',\n",
    "# #  'placurv_12',\n",
    "# #  'placurv_17',\n",
    "# #  'placurv_22',\n",
    " 'placurv_3',\n",
    " 'placurv_8',\n",
    " 'placurv_13',\n",
    " 'placurv_18',\n",
    " 'placurv_23',\n",
    "# #  'placurv_4',\n",
    "# #  'placurv_9',\n",
    "# #  'placurv_14',\n",
    "# #  'placurv_19',\n",
    "# #  'placurv_24',\n",
    "# #  'placurv_5',\n",
    "# #  'placurv_10',\n",
    "# #  'placurv_15',\n",
    "# #  'placurv_20',\n",
    "# #  'placurv_25',\n",
    "# #  'procurv_1',\n",
    "# #  'procurv_6',\n",
    "# #  'procurv_11',\n",
    "# #  'procurv_16',\n",
    "# #  'procurv_21',\n",
    "# #  'procurv_2',\n",
    "# #  'procurv_7',\n",
    "# #  'procurv_12',\n",
    "# #  'procurv_17',\n",
    "# #  'procurv_22',\n",
    " 'procurv_3',\n",
    " 'procurv_8',\n",
    " 'procurv_13',\n",
    " 'procurv_18',\n",
    " 'procurv_23',\n",
    "# #  'procurv_4',\n",
    "# #  'procurv_9',\n",
    "# #  'procurv_14',\n",
    "# #  'procurv_19',\n",
    "# #  'procurv_24',\n",
    "# #  'procurv_5',\n",
    "# #  'procurv_10',\n",
    "# #  'procurv_15',\n",
    "# #  'procurv_20',\n",
    "# #  'procurv_25',\n",
    "# #  'latitude',\n",
    "# #  'longitude',\n",
    "# # 'event_date',\n",
    "# #  'departamento',\n",
    "# #  'municipio',\n",
    "# #  'incident',\n",
    "# #  'image_name'\n",
    " 'precipitation_mm_last_7_days',\n",
    "#  'satellite',\n",
    " 'soil_tax',\n",
    " 'soil_rec_symbol',\n",
    " 'soil_rec_mat_origin',\n",
    " 'soil_rec_sew_class',\n",
    " 'soil_rec_tex_sup',\n",
    " 'soil_rec_c_tex_sup',\n",
    " 'soil_rec_tex_sub',\n",
    " 'soil_rec_c__tex_sub',\n",
    " 'soil_rec_risk_eros',\n",
    " 'fis_nomr',\n",
    " 'soil_use',\n",
    " 'rock_geo',\n",
    " 'rock_type',\n",
    " 'rock_period',\n",
    "]\n"
   ]
  },
  {
   "cell_type": "code",
   "execution_count": 41,
   "metadata": {},
   "outputs": [],
   "source": [
    "X_train, X_test, y_train, y_test = train_test_split(df[features], df['landslide'], test_size=0.3,random_state=0)\n"
   ]
  },
  {
   "cell_type": "code",
   "execution_count": 42,
   "metadata": {},
   "outputs": [],
   "source": [
    "from imblearn.under_sampling import RandomUnderSampler\n",
    "from collections import Counter"
   ]
  },
  {
   "cell_type": "code",
   "execution_count": 43,
   "metadata": {},
   "outputs": [
    {
     "name": "stdout",
     "output_type": "stream",
     "text": [
      "Training target statistics: Counter({0: 4480, 1: 2129})\n",
      "Testing target statistics: Counter({0: 1929, 1: 904})\n"
     ]
    }
   ],
   "source": [
    "print(f\"Training target statistics: {Counter(y_train)}\")\n",
    "print(f\"Testing target statistics: {Counter(y_test)}\")"
   ]
  },
  {
   "cell_type": "code",
   "execution_count": 44,
   "metadata": {},
   "outputs": [
    {
     "name": "stdout",
     "output_type": "stream",
     "text": [
      "Training target statistics: Counter({0: 2129, 1: 2129})\n",
      "Testing target statistics: Counter({0: 1929, 1: 904})\n"
     ]
    }
   ],
   "source": [
    "over_sampler = RandomUnderSampler(random_state=42)\n",
    "X_res, y_res = over_sampler.fit_resample(X_train, y_train)\n",
    "print(f\"Training target statistics: {Counter(y_res)}\")\n",
    "print(f\"Testing target statistics: {Counter(y_test)}\")"
   ]
  },
  {
   "cell_type": "code",
   "execution_count": 45,
   "metadata": {},
   "outputs": [
    {
     "data": {
      "text/plain": [
       "9442"
      ]
     },
     "execution_count": 45,
     "metadata": {},
     "output_type": "execute_result"
    }
   ],
   "source": [
    "len(training)"
   ]
  },
  {
   "cell_type": "markdown",
   "metadata": {},
   "source": [
    "## Start Training different models"
   ]
  },
  {
   "cell_type": "code",
   "execution_count": 46,
   "metadata": {},
   "outputs": [],
   "source": [
    "from sklearn.metrics import roc_auc_score,accuracy_score\n",
    "import numpy as np\n",
    "from sklearn.metrics import confusion_matrix\n",
    "from sklearn.metrics import classification_report,roc_curve\n",
    "import matplotlib.pyplot as plt\n",
    "from sklearn.model_selection import KFold,cross_val_score,cross_validate\n"
   ]
  },
  {
   "cell_type": "code",
   "execution_count": 47,
   "metadata": {},
   "outputs": [],
   "source": [
    "def train_with_model_train_test_method(clf, model, X_train, y_train, X_test,y_test, using_oversample=False):\n",
    "    clf.fit(X_train, y_train)\n",
    "    prediction = clf.predict(X_test)\n",
    "    prediction_prob = clf.predict_proba(X_test)\n",
    "    accuracy_score_model = accuracy_score(y_test, prediction)\n",
    "    roc_auc_score_model = roc_auc_score(y_test,prediction_prob[:,1], labels=[1,0])\n",
    "    print(\"Model {} {}\".format(model, 'using oversample' if using_oversample else ''))\n",
    "    print(\"Scores\")\n",
    "    print(\"Accuracy score: {}\".format( str(accuracy_score_model)))\n",
    "    print(\"RocAuc score: {}\".format( str(roc_auc_score_model)))\n",
    "    print(\"Confusion Matrix\")\n",
    "    confusion_matrix_model = confusion_matrix(y_test, prediction, labels=[1,0])\n",
    "    print((confusion_matrix_model))\n",
    "    target_names = ['non_landslide','landslide']\n",
    "    print(\"Classification Report\")\n",
    "    print((classification_report(y_test, prediction, target_names=target_names)))\n",
    "    print(\" Roc Curve\")\n",
    "    fpr, tpr, _ = roc_curve(y_test,  prediction_prob[::,1],pos_label=1)\n",
    "    plt.plot(fpr,tpr)\n",
    "    plt.ylabel('True Positive Rate')\n",
    "    plt.xlabel('False Positive Rate')\n",
    "    plt.show()\n",
    "  \n",
    "    try:\n",
    "        print(\"Feature Importance\")\n",
    "        importances = clf.feature_importances_\n",
    "        feature_importances_dict = dict()\n",
    "        for x in range(len(importances)):\n",
    "            feature_importances_dict[features[x]] = round(importances[x]*100,2)\n",
    "        feature_importances_dict_sorted = {k: v for k, v in sorted(feature_importances_dict.items(), key=lambda item: item[1],reverse=True)}\n",
    "        print(\"\\tPlace\\tFeature\\t%\")\n",
    "        index = 1\n",
    "        for key in feature_importances_dict_sorted.keys():\n",
    "            if(feature_importances_dict[key]>0.5):\n",
    "                print(\"\\t{}\\t{}\\t{}\".format(index,key,feature_importances_dict[key]))\n",
    "                index +=1\n",
    "    except:\n",
    "        pass\n",
    "    return accuracy_score_model,roc_auc_score_model\n"
   ]
  },
  {
   "cell_type": "code",
   "execution_count": 48,
   "metadata": {},
   "outputs": [],
   "source": [
    "def train_with_model_cross_validation_method(clf,model,training_df,features,using_oversample=False):\n",
    "    print(\"Model {} {}\".format(model, 'using oversample' if using_oversample else ''))\n",
    "    print(\"Cross Validation\")\n",
    "    k_folds = KFold(n_splits=5, shuffle=True,random_state=0)\n",
    "    kfold = 1\n",
    "    X = training_df.loc[:, features]\n",
    "    y = training_df.loc[:,'landslide']\n",
    "    # for train_index, test_index in kf5.split(training_df):\n",
    "    #     X_train = training_df.iloc[train_index].loc[:, features]\n",
    "    #     X_test = training_df.iloc[test_index][features]\n",
    "    #     y_train = training_df.iloc[train_index].loc[:,'landslide']\n",
    "    #     if(using_oversample):\n",
    "    #         over_sampler = RandomOverSampler(random_state=0)\n",
    "    #         X_train, y_train = over_sampler.fit_resample(X_train, y_train)\n",
    "    #     y_test = training_df.loc[test_index]['landslide']\n",
    "    scores = cross_validate(clf, X, y, cv = k_folds,scoring=['roc_auc','precision_macro', 'recall_macro'],return_estimator=True)\n",
    "    for idx,estimator in enumerate(scores['estimator']):\n",
    "        print(\"Features sorted by their score for estimator {}:\".format(idx))\n",
    "        feature_importances = pd.DataFrame(estimator.feature_importances_,\n",
    "                                        index = features,\n",
    "                                            columns=['importance']).sort_values('importance', ascending=False)\n",
    "        print(feature_importances)\n",
    "    print(\"Cross Validation Scores: \", scores)\n",
    "    # print(\"Average CV Score: \", scores.mean())\n",
    "    # print(\"Number of CV Scores used in Average: \", len(scores))"
   ]
  },
  {
   "cell_type": "markdown",
   "metadata": {},
   "source": [
    "### Train With RandomForestClassifier"
   ]
  },
  {
   "cell_type": "code",
   "execution_count": 117,
   "metadata": {},
   "outputs": [],
   "source": [
    "from sklearn.ensemble import RandomForestClassifier\n",
    "clf = RandomForestClassifier(max_depth=4, random_state=0)\n",
    "model = \"RandomForest\"\n"
   ]
  },
  {
   "cell_type": "code",
   "execution_count": 118,
   "metadata": {},
   "outputs": [
    {
     "name": "stdout",
     "output_type": "stream",
     "text": [
      "Model RandomForest \n",
      "Scores\n",
      "Accuracy score: 0.8002117896223085\n",
      "RocAuc score: 0.8943876748480911\n",
      "Confusion Matrix\n",
      "[[ 599  279]\n",
      " [ 287 1668]]\n",
      "Classification Report\n",
      "               precision    recall  f1-score   support\n",
      "\n",
      "non_landslide       0.86      0.85      0.85      1955\n",
      "    landslide       0.68      0.68      0.68       878\n",
      "\n",
      "     accuracy                           0.80      2833\n",
      "    macro avg       0.77      0.77      0.77      2833\n",
      " weighted avg       0.80      0.80      0.80      2833\n",
      "\n",
      " Roc Curve\n"
     ]
    },
    {
     "data": {
      "image/png": "[encoded data removed]",
      "text/plain": [
       "<Figure size 432x288 with 1 Axes>"
      ]
     },
     "metadata": {
      "needs_background": "light"
     },
     "output_type": "display_data"
    },
    {
     "name": "stdout",
     "output_type": "stream",
     "text": [
      "Feature Importance\n",
      "\tPlace\tFeature\t%\n",
      "\t1\tprecipitation_mm_last_7_days\t8.34\n",
      "\t2\televation_20\t5.73\n",
      "\t3\televation_19\t5.07\n",
      "\t4\televation_24\t4.85\n",
      "\t5\televation_8\t4.84\n",
      "\t6\televation_18\t4.63\n",
      "\t7\televation_10\t4.17\n",
      "\t8\televation_17\t3.88\n",
      "\t9\televation_15\t3.66\n",
      "\t10\televation_23\t3.41\n",
      "\t11\televation_11\t3.23\n",
      "\t12\televation_3\t3.21\n",
      "\t13\televation_9\t3.16\n",
      "\t14\televation_12\t3.09\n",
      "\t15\televation_4\t3.09\n",
      "\t16\televation_1\t2.9\n",
      "\t17\televation_5\t2.72\n",
      "\t18\televation_6\t2.71\n",
      "\t19\televation_21\t2.3\n",
      "\t20\televation_7\t2.23\n",
      "\t21\televation_14\t2.1\n",
      "\t22\televation_13\t1.88\n",
      "\t23\tsoil_rec_tex_sup\t1.6\n",
      "\t24\televation_2\t1.57\n",
      "\t25\televation_22\t1.57\n",
      "\t26\televation_25\t1.35\n",
      "\t27\televation_16\t1.28\n",
      "\t28\tsoil_tax\t0.92\n",
      "\t29\tsoil_rec_tex_sub\t0.74\n",
      "\t30\tsoil_rec_c__tex_sub\t0.58\n",
      "\t31\trock_geo\t0.56\n",
      "\t32\tsoil_rec_mat_origin\t0.54\n"
     ]
    }
   ],
   "source": [
    "# Train Not Using oversample\n",
    "train_with_model_train_test_method(clf=clf,model=model,X_train=X_train, y_train=y_train, X_test=X_test, y_test=y_test)\n"
   ]
  },
  {
   "cell_type": "code",
   "execution_count": 120,
   "metadata": {},
   "outputs": [
    {
     "name": "stdout",
     "output_type": "stream",
     "text": [
      "Model RandomForest using overfit\n",
      "Scores\n",
      "Accuracy score: 0.7952700317684434\n",
      "RocAuc score: 0.8992408927520696\n",
      "Confusion Matrix\n",
      "[[ 778  100]\n",
      " [ 480 1475]]\n",
      "Classification Report\n",
      "               precision    recall  f1-score   support\n",
      "\n",
      "non_landslide       0.94      0.75      0.84      1955\n",
      "    landslide       0.62      0.89      0.73       878\n",
      "\n",
      "     accuracy                           0.80      2833\n",
      "    macro avg       0.78      0.82      0.78      2833\n",
      " weighted avg       0.84      0.80      0.80      2833\n",
      "\n",
      " Roc Curve\n"
     ]
    },
    {
     "data": {
      "image/png": "[encoded data removed]",
      "text/plain": [
       "<Figure size 432x288 with 1 Axes>"
      ]
     },
     "metadata": {
      "needs_background": "light"
     },
     "output_type": "display_data"
    },
    {
     "name": "stdout",
     "output_type": "stream",
     "text": [
      "Feature Importance\n",
      "\tPlace\tFeature\t%\n",
      "\t1\tprecipitation_mm_last_7_days\t7.61\n",
      "\t2\televation_10\t7.56\n",
      "\t3\televation_20\t6.45\n",
      "\t4\televation_15\t5.45\n",
      "\t5\televation_5\t4.59\n",
      "\t6\televation_24\t4.26\n",
      "\t7\televation_22\t4.1\n",
      "\t8\televation_9\t4.04\n",
      "\t9\televation_17\t3.96\n",
      "\t10\televation_8\t3.94\n",
      "\t11\televation_12\t3.87\n",
      "\t12\televation_19\t3.61\n",
      "\t13\televation_23\t2.87\n",
      "\t14\televation_6\t2.72\n",
      "\t15\televation_18\t2.5\n",
      "\t16\televation_3\t2.47\n",
      "\t17\televation_14\t2.33\n",
      "\t18\televation_13\t2.26\n",
      "\t19\televation_4\t2.17\n",
      "\t20\televation_11\t1.99\n",
      "\t21\televation_1\t1.9\n",
      "\t22\televation_21\t1.81\n",
      "\t23\televation_7\t1.81\n",
      "\t24\tsoil_rec_tex_sup\t1.81\n",
      "\t25\televation_16\t1.32\n",
      "\t26\televation_25\t1.29\n",
      "\t27\televation_2\t1.19\n",
      "\t28\tsoil_rec_tex_sub\t0.87\n",
      "\t29\tsoil_tax\t0.67\n",
      "\t30\tsoil_rec_c_tex_sup\t0.58\n"
     ]
    }
   ],
   "source": [
    "# Train  Using oversample\n",
    "train_with_model_train_test_method(clf=clf,model=model,X_train=X_res, y_train=y_res, X_test=X_test, y_test=y_test,using_oversample=True)"
   ]
  },
  {
   "cell_type": "markdown",
   "metadata": {},
   "source": [
    "### Train with GradientBoostingClassifier"
   ]
  },
  {
   "cell_type": "code",
   "execution_count": 250,
   "metadata": {},
   "outputs": [],
   "source": [
    "from sklearn.ensemble import GradientBoostingClassifier\n",
    "clf = GradientBoostingClassifier( random_state=0)\n",
    "model = \"GradientBoost\"\n"
   ]
  },
  {
   "cell_type": "code",
   "execution_count": 251,
   "metadata": {},
   "outputs": [
    {
     "name": "stdout",
     "output_type": "stream",
     "text": [
      "Model GradientBoost \n",
      "Scores\n",
      "Accuracy score: 0.8672785033533357\n",
      "RocAuc score: 0.930994744909377\n",
      "Confusion Matrix\n",
      "[[ 725  214]\n",
      " [ 162 1732]]\n",
      "Classification Report\n",
      "               precision    recall  f1-score   support\n",
      "\n",
      "non_landslide       0.89      0.91      0.90      1894\n",
      "    landslide       0.82      0.77      0.79       939\n",
      "\n",
      "     accuracy                           0.87      2833\n",
      "    macro avg       0.85      0.84      0.85      2833\n",
      " weighted avg       0.87      0.87      0.87      2833\n",
      "\n",
      " Roc Curve\n"
     ]
    },
    {
     "data": {
      "image/png": "[encoded data removed]",
      "text/plain": [
       "<Figure size 432x288 with 1 Axes>"
      ]
     },
     "metadata": {
      "needs_background": "light"
     },
     "output_type": "display_data"
    },
    {
     "name": "stdout",
     "output_type": "stream",
     "text": [
      "Feature Importance\n",
      "\tPlace\tFeature\t%\n",
      "\t1\tprecipitation_mm_last_7_days\t37.12\n",
      "\t2\tsoil_rec_tex_sup\t12.2\n",
      "\t3\trock_type\t10.82\n",
      "\t4\tfis_nomr\t10.76\n",
      "\t5\tsoil_rec_tex_sub\t6.19\n",
      "\t6\trock_geo\t5.82\n",
      "\t7\tsoil_rec_mat_origin\t4.68\n",
      "\t8\trock_period\t4.4\n",
      "\t9\tsoil_rec_symbol\t2.49\n",
      "\t10\tsoil_tax\t2.09\n",
      "\t11\tsoil_rec_risk_eros\t1.46\n",
      "\t12\tsoil_use\t0.8\n",
      "\t13\tsoil_rec_c_tex_sup\t0.56\n"
     ]
    },
    {
     "data": {
      "text/plain": [
       "(0.8672785033533357, 0.930994744909377)"
      ]
     },
     "execution_count": 251,
     "metadata": {},
     "output_type": "execute_result"
    }
   ],
   "source": [
    "# Train Not Using oversample\n",
    "train_with_model_train_test_method(clf=clf,model=model,X_train=X_train, y_train=y_train, X_test=X_test, y_test=y_test)\n"
   ]
  },
  {
   "cell_type": "code",
   "execution_count": 252,
   "metadata": {},
   "outputs": [
    {
     "name": "stdout",
     "output_type": "stream",
     "text": [
      "Model GradientBoost using oversample\n",
      "Scores\n",
      "Accuracy score: 0.8524532297917402\n",
      "RocAuc score: 0.9305308619900521\n",
      "Confusion Matrix\n",
      "[[ 827  112]\n",
      " [ 306 1588]]\n",
      "Classification Report\n",
      "               precision    recall  f1-score   support\n",
      "\n",
      "non_landslide       0.93      0.84      0.88      1894\n",
      "    landslide       0.73      0.88      0.80       939\n",
      "\n",
      "     accuracy                           0.85      2833\n",
      "    macro avg       0.83      0.86      0.84      2833\n",
      " weighted avg       0.87      0.85      0.86      2833\n",
      "\n",
      " Roc Curve\n"
     ]
    },
    {
     "data": {
      "image/png": "[encoded data removed]",
      "text/plain": [
       "<Figure size 432x288 with 1 Axes>"
      ]
     },
     "metadata": {
      "needs_background": "light"
     },
     "output_type": "display_data"
    },
    {
     "name": "stdout",
     "output_type": "stream",
     "text": [
      "Feature Importance\n",
      "\tPlace\tFeature\t%\n",
      "\t1\tprecipitation_mm_last_7_days\t39.49\n",
      "\t2\tsoil_rec_tex_sup\t15.83\n",
      "\t3\tfis_nomr\t13.48\n",
      "\t4\trock_type\t4.91\n",
      "\t5\trock_geo\t4.49\n",
      "\t6\trock_period\t4.42\n",
      "\t7\tsoil_rec_tex_sub\t4.1\n",
      "\t8\tsoil_rec_mat_origin\t3.86\n",
      "\t9\tsoil_tax\t2.93\n",
      "\t10\tsoil_rec_symbol\t2.65\n",
      "\t11\tsoil_use\t1.26\n",
      "\t12\tsoil_rec_risk_eros\t1.15\n",
      "\t13\tsoil_rec_c__tex_sub\t0.92\n"
     ]
    },
    {
     "data": {
      "text/plain": [
       "(0.8524532297917402, 0.9305308619900521)"
      ]
     },
     "execution_count": 252,
     "metadata": {},
     "output_type": "execute_result"
    }
   ],
   "source": [
    "# Train Using oversample\n",
    "train_with_model_train_test_method(clf=clf,model=model,X_train=X_res, y_train=y_res, X_test=X_test, y_test=y_test,using_oversample=True)"
   ]
  },
  {
   "cell_type": "markdown",
   "metadata": {},
   "source": [
    "### Train with LogisticRegression"
   ]
  },
  {
   "cell_type": "code",
   "execution_count": 126,
   "metadata": {},
   "outputs": [],
   "source": [
    "from sklearn.linear_model import LogisticRegression\n",
    "clf = LogisticRegression( random_state=0)\n",
    "model = \"LogisticRegression\"\n"
   ]
  },
  {
   "cell_type": "code",
   "execution_count": 127,
   "metadata": {},
   "outputs": [
    {
     "name": "stdout",
     "output_type": "stream",
     "text": [
      "Model LogisticRegression \n",
      "Scores\n",
      "Accuracy score: 0.8072714436992587\n",
      "RocAuc score: 0.8660073755163153\n",
      "Confusion Matrix\n",
      "[[ 583  295]\n",
      " [ 251 1704]]\n",
      "Classification Report\n",
      "               precision    recall  f1-score   support\n",
      "\n",
      "non_landslide       0.85      0.87      0.86      1955\n",
      "    landslide       0.70      0.66      0.68       878\n",
      "\n",
      "     accuracy                           0.81      2833\n",
      "    macro avg       0.78      0.77      0.77      2833\n",
      " weighted avg       0.80      0.81      0.81      2833\n",
      "\n",
      " Roc Curve\n"
     ]
    },
    {
     "name": "stderr",
     "output_type": "stream",
     "text": [
      "e:\\PROGRAMS\\python39\\lib\\site-packages\\sklearn\\linear_model\\_logistic.py:814: ConvergenceWarning: lbfgs failed to converge (status=1):\n",
      "STOP: TOTAL NO. of ITERATIONS REACHED LIMIT.\n",
      "\n",
      "Increase the number of iterations (max_iter) or scale the data as shown in:\n",
      "    https://scikit-learn.org/stable/modules/preprocessing.html\n",
      "Please also refer to the documentation for alternative solver options:\n",
      "    https://scikit-learn.org/stable/modules/linear_model.html#logistic-regression\n",
      "  n_iter_i = _check_optimize_result(\n"
     ]
    },
    {
     "data": {
      "image/png": "[encoded data removed]",
      "text/plain": [
       "<Figure size 432x288 with 1 Axes>"
      ]
     },
     "metadata": {
      "needs_background": "light"
     },
     "output_type": "display_data"
    },
    {
     "name": "stdout",
     "output_type": "stream",
     "text": [
      "Feature Importance\n"
     ]
    }
   ],
   "source": [
    "# Train Not Using oversample\n",
    "train_with_model_train_test_method(clf=clf,model=model,X_train=X_train, y_train=y_train, X_test=X_test, y_test=y_test)\n"
   ]
  },
  {
   "cell_type": "code",
   "execution_count": 128,
   "metadata": {},
   "outputs": [
    {
     "name": "stdout",
     "output_type": "stream",
     "text": [
      "Model LogisticRegression using overfit\n",
      "Scores\n",
      "Accuracy score: 0.7942110836569009\n",
      "RocAuc score: 0.8753683388775934\n",
      "Confusion Matrix\n",
      "[[ 722  156]\n",
      " [ 427 1528]]\n",
      "Classification Report\n",
      "               precision    recall  f1-score   support\n",
      "\n",
      "non_landslide       0.91      0.78      0.84      1955\n",
      "    landslide       0.63      0.82      0.71       878\n",
      "\n",
      "     accuracy                           0.79      2833\n",
      "    macro avg       0.77      0.80      0.78      2833\n",
      " weighted avg       0.82      0.79      0.80      2833\n",
      "\n",
      " Roc Curve\n"
     ]
    },
    {
     "name": "stderr",
     "output_type": "stream",
     "text": [
      "e:\\PROGRAMS\\python39\\lib\\site-packages\\sklearn\\linear_model\\_logistic.py:814: ConvergenceWarning: lbfgs failed to converge (status=1):\n",
      "STOP: TOTAL NO. of ITERATIONS REACHED LIMIT.\n",
      "\n",
      "Increase the number of iterations (max_iter) or scale the data as shown in:\n",
      "    https://scikit-learn.org/stable/modules/preprocessing.html\n",
      "Please also refer to the documentation for alternative solver options:\n",
      "    https://scikit-learn.org/stable/modules/linear_model.html#logistic-regression\n",
      "  n_iter_i = _check_optimize_result(\n"
     ]
    },
    {
     "data": {
      "image/png": "[encoded data removed]",
      "text/plain": [
       "<Figure size 432x288 with 1 Axes>"
      ]
     },
     "metadata": {
      "needs_background": "light"
     },
     "output_type": "display_data"
    },
    {
     "name": "stdout",
     "output_type": "stream",
     "text": [
      "Feature Importance\n"
     ]
    }
   ],
   "source": [
    "# Train  Using oversample\n",
    "train_with_model_train_test_method(clf=clf,model=model,X_train=X_res, y_train=y_res, X_test=X_test, y_test=y_test,using_oversample=True)"
   ]
  },
  {
   "cell_type": "markdown",
   "metadata": {},
   "source": [
    "### Train With AdaBoostClassifer"
   ]
  },
  {
   "cell_type": "code",
   "execution_count": 129,
   "metadata": {},
   "outputs": [],
   "source": [
    "from sklearn.ensemble import AdaBoostClassifier\n",
    "clf = AdaBoostClassifier( random_state=0)\n",
    "model = \"AdaBoost\"\n"
   ]
  },
  {
   "cell_type": "code",
   "execution_count": 130,
   "metadata": {},
   "outputs": [
    {
     "name": "stdout",
     "output_type": "stream",
     "text": [
      "Model AdaBoost \n",
      "Scores\n",
      "Accuracy score: 0.8535121779032827\n",
      "RocAuc score: 0.9238448811236885\n",
      "Confusion Matrix\n",
      "[[ 675  203]\n",
      " [ 212 1743]]\n",
      "Classification Report\n",
      "               precision    recall  f1-score   support\n",
      "\n",
      "non_landslide       0.90      0.89      0.89      1955\n",
      "    landslide       0.76      0.77      0.76       878\n",
      "\n",
      "     accuracy                           0.85      2833\n",
      "    macro avg       0.83      0.83      0.83      2833\n",
      " weighted avg       0.85      0.85      0.85      2833\n",
      "\n",
      " Roc Curve\n"
     ]
    },
    {
     "data": {
      "image/png": "[encoded data removed]",
      "text/plain": [
       "<Figure size 432x288 with 1 Axes>"
      ]
     },
     "metadata": {
      "needs_background": "light"
     },
     "output_type": "display_data"
    },
    {
     "name": "stdout",
     "output_type": "stream",
     "text": [
      "Feature Importance\n",
      "\tPlace\tFeature\t%\n",
      "\t1\tprecipitation_mm_last_7_days\t16.0\n",
      "\t2\tsoil_rec_symbol\t10.0\n",
      "\t3\televation_13\t6.0\n",
      "\t4\trock_geo\t6.0\n",
      "\t5\tsatellite\t4.0\n",
      "\t6\tsoil_tax\t4.0\n",
      "\t7\tsoil_rec_mat_origin\t4.0\n",
      "\t8\tfis_nomr\t4.0\n",
      "\t9\trock_period\t4.0\n",
      "\t10\televation_6\t2.0\n",
      "\t11\televation_3\t2.0\n",
      "\t12\televation_24\t2.0\n",
      "\t13\televation_5\t2.0\n",
      "\t14\televation_10\t2.0\n",
      "\t15\tslope_6\t2.0\n",
      "\t16\tslope_13\t2.0\n",
      "\t17\tslope_4\t2.0\n",
      "\t18\tslope_10\t2.0\n",
      "\t19\tslope_25\t2.0\n",
      "\t20\taspect_6\t2.0\n",
      "\t21\tplacurv_7\t2.0\n",
      "\t22\tplacurv_3\t2.0\n",
      "\t23\tplacurv_13\t2.0\n",
      "\t24\tplacurv_10\t2.0\n",
      "\t25\tprocurv_21\t2.0\n",
      "\t26\tsoil_rec_sew_class\t2.0\n",
      "\t27\tsoil_rec_tex_sup\t2.0\n",
      "\t28\tsoil_rec_tex_sub\t2.0\n",
      "\t29\tsoil_use\t2.0\n",
      "\t30\trock_type\t2.0\n"
     ]
    }
   ],
   "source": [
    "# Train Not Using oversample\n",
    "train_with_model_train_test_method(clf=clf,model=model,X_train=X_train, y_train=y_train, X_test=X_test, y_test=y_test)\n"
   ]
  },
  {
   "cell_type": "code",
   "execution_count": 131,
   "metadata": {},
   "outputs": [
    {
     "name": "stdout",
     "output_type": "stream",
     "text": [
      "Model AdaBoost using overfit\n",
      "Scores\n",
      "Accuracy score: 0.8521002470878927\n",
      "RocAuc score: 0.9304586685620073\n",
      "Confusion Matrix\n",
      "[[ 758  120]\n",
      " [ 299 1656]]\n",
      "Classification Report\n",
      "               precision    recall  f1-score   support\n",
      "\n",
      "non_landslide       0.93      0.85      0.89      1955\n",
      "    landslide       0.72      0.86      0.78       878\n",
      "\n",
      "     accuracy                           0.85      2833\n",
      "    macro avg       0.82      0.86      0.84      2833\n",
      " weighted avg       0.87      0.85      0.86      2833\n",
      "\n",
      " Roc Curve\n"
     ]
    },
    {
     "data": {
      "image/png": "[encoded data removed]",
      "text/plain": [
       "<Figure size 432x288 with 1 Axes>"
      ]
     },
     "metadata": {
      "needs_background": "light"
     },
     "output_type": "display_data"
    },
    {
     "name": "stdout",
     "output_type": "stream",
     "text": [
      "Feature Importance\n",
      "\tPlace\tFeature\t%\n",
      "\t1\tprecipitation_mm_last_7_days\t10.0\n",
      "\t2\tsoil_rec_symbol\t10.0\n",
      "\t3\trock_geo\t8.0\n",
      "\t4\televation_24\t4.0\n",
      "\t5\tplacurv_17\t4.0\n",
      "\t6\tsatellite\t4.0\n",
      "\t7\tsoil_rec_mat_origin\t4.0\n",
      "\t8\tsoil_rec_tex_sub\t4.0\n",
      "\t9\trock_period\t4.0\n",
      "\t10\televation_1\t2.0\n",
      "\t11\televation_3\t2.0\n",
      "\t12\televation_4\t2.0\n",
      "\t13\televation_10\t2.0\n",
      "\t14\tslope_21\t2.0\n",
      "\t15\tslope_13\t2.0\n",
      "\t16\tslope_18\t2.0\n",
      "\t17\tslope_5\t2.0\n",
      "\t18\tslope_25\t2.0\n",
      "\t19\taspect_6\t2.0\n",
      "\t20\tplacurv_21\t2.0\n",
      "\t21\tplacurv_3\t2.0\n",
      "\t22\tplacurv_9\t2.0\n",
      "\t23\tplacurv_19\t2.0\n",
      "\t24\tplacurv_10\t2.0\n",
      "\t25\tplacurv_25\t2.0\n",
      "\t26\tprocurv_6\t2.0\n",
      "\t27\tprocurv_3\t2.0\n",
      "\t28\tprocurv_25\t2.0\n",
      "\t29\tsoil_tax\t2.0\n",
      "\t30\tsoil_rec_sew_class\t2.0\n",
      "\t31\tsoil_rec_tex_sup\t2.0\n",
      "\t32\tfis_nomr\t2.0\n",
      "\t33\tsoil_use\t2.0\n"
     ]
    }
   ],
   "source": [
    "# Train  Using oversample\n",
    "train_with_model_train_test_method(clf=clf,model=model,X_train=X_res, y_train=y_res, X_test=X_test, y_test=y_test,using_oversample=True)"
   ]
  },
  {
   "cell_type": "markdown",
   "metadata": {},
   "source": [
    "### Train With XGBoostClassifer"
   ]
  },
  {
   "cell_type": "code",
   "execution_count": 49,
   "metadata": {},
   "outputs": [],
   "source": [
    "import warnings\n",
    "warnings.filterwarnings(\"ignore\")"
   ]
  },
  {
   "cell_type": "code",
   "execution_count": 50,
   "metadata": {},
   "outputs": [],
   "source": [
    "import xgboost as xgb\n",
    "clf = xgb.XGBClassifier(random_state=0)\n",
    "model = \"XGBoost\"\n"
   ]
  },
  {
   "cell_type": "markdown",
   "metadata": {},
   "source": [
    "#### Train Test Method Not Using Oversample"
   ]
  },
  {
   "cell_type": "code",
   "execution_count": 68,
   "metadata": {},
   "outputs": [
    {
     "name": "stdout",
     "output_type": "stream",
     "text": [
      "[14:56:10] WARNING: C:/Users/Administrator/workspace/xgboost-win64_release_1.5.1/src/learner.cc:1115: Starting in XGBoost 1.3.0, the default evaluation metric used with the objective 'binary:logistic' was changed from 'error' to 'logloss'. Explicitly set eval_metric if you'd like to restore the old behavior.\n",
      "Model XGBoost \n",
      "Scores\n",
      "Accuracy score: 0.8891634309918814\n",
      "RocAuc score: 0.9447513384439643\n",
      "Confusion Matrix\n",
      "[[ 737  167]\n",
      " [ 147 1782]]\n",
      "Classification Report\n",
      "               precision    recall  f1-score   support\n",
      "\n",
      "non_landslide       0.91      0.92      0.92      1929\n",
      "    landslide       0.83      0.82      0.82       904\n",
      "\n",
      "     accuracy                           0.89      2833\n",
      "    macro avg       0.87      0.87      0.87      2833\n",
      " weighted avg       0.89      0.89      0.89      2833\n",
      "\n",
      " Roc Curve\n"
     ]
    },
    {
     "data": {
      "image/png": "[encoded data removed]",
      "text/plain": [
       "<Figure size 432x288 with 1 Axes>"
      ]
     },
     "metadata": {
      "needs_background": "light"
     },
     "output_type": "display_data"
    },
    {
     "name": "stdout",
     "output_type": "stream",
     "text": [
      "Feature Importance\n",
      "\tPlace\tFeature\t%\n",
      "\t1\televation_13\t16.31\n",
      "\t2\tprecipitation_mm_last_7_days\t10.02\n",
      "\t3\trock_geo\t5.26\n",
      "\t4\tsoil_rec_risk_eros\t5.17\n",
      "\t5\trock_period\t4.96\n",
      "\t6\tsoil_rec_symbol\t4.91\n",
      "\t7\tsoil_rec_tex_sup\t4.69\n",
      "\t8\tsoil_rec_tex_sub\t4.44\n",
      "\t9\tsoil_rec_mat_origin\t4.41\n",
      "\t10\tfis_nomr\t4.41\n",
      "\t11\trock_type\t4.38\n",
      "\t12\tsoil_rec_sew_class\t4.31\n",
      "\t13\tsoil_tax\t4.01\n",
      "\t14\tsoil_rec_c_tex_sup\t3.92\n",
      "\t15\tsoil_use\t3.87\n",
      "\t16\tslope_13\t3.5\n",
      "\t17\tsoil_rec_c__tex_sub\t3.46\n",
      "\t18\tplacurv_13\t2.92\n",
      "\t19\taspect_13\t2.53\n",
      "\t20\tprocurv_13\t2.53\n"
     ]
    },
    {
     "data": {
      "text/plain": [
       "(0.8891634309918814, 0.9447513384439643)"
      ]
     },
     "execution_count": 68,
     "metadata": {},
     "output_type": "execute_result"
    }
   ],
   "source": [
    "# Train Not Using oversample\n",
    "train_with_model_train_test_method(clf=clf,model=model,X_train=X_train, y_train=y_train, X_test=X_test, y_test=y_test)\n"
   ]
  },
  {
   "cell_type": "markdown",
   "metadata": {},
   "source": [
    "#### Train Test Method Using Oversample"
   ]
  },
  {
   "cell_type": "code",
   "execution_count": 51,
   "metadata": {},
   "outputs": [
    {
     "name": "stdout",
     "output_type": "stream",
     "text": [
      "[00:26:18] WARNING: C:/Users/Administrator/workspace/xgboost-win64_release_1.5.1/src/learner.cc:1115: Starting in XGBoost 1.3.0, the default evaluation metric used with the objective 'binary:logistic' was changed from 'error' to 'logloss'. Explicitly set eval_metric if you'd like to restore the old behavior.\n",
      "Model XGBoost using oversample\n",
      "Scores\n",
      "Accuracy score: 0.8655135898340981\n",
      "RocAuc score: 0.9363355996274836\n",
      "Confusion Matrix\n",
      "[[ 810   94]\n",
      " [ 287 1642]]\n",
      "Classification Report\n",
      "               precision    recall  f1-score   support\n",
      "\n",
      "non_landslide       0.95      0.85      0.90      1929\n",
      "    landslide       0.74      0.90      0.81       904\n",
      "\n",
      "     accuracy                           0.87      2833\n",
      "    macro avg       0.84      0.87      0.85      2833\n",
      " weighted avg       0.88      0.87      0.87      2833\n",
      "\n",
      " Roc Curve\n"
     ]
    },
    {
     "data": {
      "image/png": "[encoded data removed]",
      "text/plain": [
       "<Figure size 432x288 with 1 Axes>"
      ]
     },
     "metadata": {
      "needs_background": "light"
     },
     "output_type": "display_data"
    },
    {
     "name": "stdout",
     "output_type": "stream",
     "text": [
      "Feature Importance\n",
      "\tPlace\tFeature\t%\n",
      "\t1\televation_3\t16.48\n",
      "\t2\televation_23\t9.68\n",
      "\t3\tprecipitation_mm_last_7_days\t5.77\n",
      "\t4\televation_18\t4.7\n",
      "\t5\tsoil_rec_sew_class\t3.77\n",
      "\t6\televation_8\t2.93\n",
      "\t7\tsoil_rec_tex_sub\t2.88\n",
      "\t8\tsoil_tax\t2.68\n",
      "\t9\tsoil_rec_tex_sup\t2.65\n",
      "\t10\trock_type\t2.29\n",
      "\t11\tsoil_rec_symbol\t2.25\n",
      "\t12\tfis_nomr\t2.16\n",
      "\t13\tsoil_rec_mat_origin\t2.1\n",
      "\t14\trock_geo\t1.98\n",
      "\t15\tslope_13\t1.96\n",
      "\t16\tsoil_rec_risk_eros\t1.95\n",
      "\t17\taspect_13\t1.89\n",
      "\t18\tplacurv_13\t1.89\n",
      "\t19\tsoil_rec_c_tex_sup\t1.88\n",
      "\t20\televation_13\t1.86\n",
      "\t21\taspect_3\t1.74\n",
      "\t22\tplacurv_23\t1.73\n",
      "\t23\tsoil_use\t1.56\n",
      "\t24\tprocurv_23\t1.49\n",
      "\t25\tslope_3\t1.48\n",
      "\t26\tplacurv_8\t1.46\n",
      "\t27\tprocurv_8\t1.44\n",
      "\t28\tplacurv_3\t1.4\n",
      "\t29\tprocurv_3\t1.35\n",
      "\t30\tsoil_rec_c__tex_sub\t1.35\n",
      "\t31\tprocurv_18\t1.34\n",
      "\t32\tprocurv_13\t1.33\n",
      "\t33\tslope_23\t1.3\n",
      "\t34\taspect_18\t1.28\n",
      "\t35\tslope_8\t1.27\n",
      "\t36\tplacurv_18\t1.27\n",
      "\t37\tslope_18\t1.24\n",
      "\t38\taspect_8\t1.12\n",
      "\t39\taspect_23\t1.12\n"
     ]
    },
    {
     "data": {
      "text/plain": [
       "(0.8655135898340981, 0.9363355996274836)"
      ]
     },
     "execution_count": 51,
     "metadata": {},
     "output_type": "execute_result"
    }
   ],
   "source": [
    "# Train  Using oversample\n",
    "train_with_model_train_test_method(clf=clf,model=model,X_train=X_res, y_train=y_res, X_test=X_test, y_test=y_test,using_oversample=True)"
   ]
  },
  {
   "cell_type": "markdown",
   "metadata": {},
   "source": [
    "#### Cross Validation Method Not Using Oversample"
   ]
  },
  {
   "cell_type": "code",
   "execution_count": null,
   "metadata": {},
   "outputs": [],
   "source": [
    "# Train using Cross validation not using oversample\n",
    "train_with_model_cross_validation_method(clf=clf,model=model,training_df=training,features=features,using_oversample=False)"
   ]
  },
  {
   "cell_type": "markdown",
   "metadata": {},
   "source": [
    "#### Cross Validation Method  Using Oversample"
   ]
  },
  {
   "cell_type": "code",
   "execution_count": 53,
   "metadata": {},
   "outputs": [
    {
     "name": "stdout",
     "output_type": "stream",
     "text": [
      "Model XGBoost using oversample\n",
      "Cross Validation\n",
      "[00:26:46] WARNING: C:/Users/Administrator/workspace/xgboost-win64_release_1.5.1/src/learner.cc:1115: Starting in XGBoost 1.3.0, the default evaluation metric used with the objective 'binary:logistic' was changed from 'error' to 'logloss'. Explicitly set eval_metric if you'd like to restore the old behavior.\n",
      "[00:26:48] WARNING: C:/Users/Administrator/workspace/xgboost-win64_release_1.5.1/src/learner.cc:1115: Starting in XGBoost 1.3.0, the default evaluation metric used with the objective 'binary:logistic' was changed from 'error' to 'logloss'. Explicitly set eval_metric if you'd like to restore the old behavior.\n",
      "[00:26:50] WARNING: C:/Users/Administrator/workspace/xgboost-win64_release_1.5.1/src/learner.cc:1115: Starting in XGBoost 1.3.0, the default evaluation metric used with the objective 'binary:logistic' was changed from 'error' to 'logloss'. Explicitly set eval_metric if you'd like to restore the old behavior.\n",
      "[00:26:52] WARNING: C:/Users/Administrator/workspace/xgboost-win64_release_1.5.1/src/learner.cc:1115: Starting in XGBoost 1.3.0, the default evaluation metric used with the objective 'binary:logistic' was changed from 'error' to 'logloss'. Explicitly set eval_metric if you'd like to restore the old behavior.\n",
      "[00:26:54] WARNING: C:/Users/Administrator/workspace/xgboost-win64_release_1.5.1/src/learner.cc:1115: Starting in XGBoost 1.3.0, the default evaluation metric used with the objective 'binary:logistic' was changed from 'error' to 'logloss'. Explicitly set eval_metric if you'd like to restore the old behavior.\n",
      "Features sorted by their score for estimator 0:\n",
      "                              importance\n",
      "elevation_23                    0.277461\n",
      "elevation_18                    0.120476\n",
      "precipitation_mm_last_7_days    0.052702\n",
      "elevation_13                    0.032677\n",
      "soil_rec_c__tex_sub             0.025311\n",
      "soil_rec_sew_class              0.025158\n",
      "rock_geo                        0.022791\n",
      "rock_type                       0.022030\n",
      "elevation_3                     0.021597\n",
      "fis_nomr                        0.021049\n",
      "soil_use                        0.020946\n",
      "soil_rec_symbol                 0.020518\n",
      "soil_rec_risk_eros              0.019556\n",
      "soil_tax                        0.018670\n",
      "soil_rec_tex_sub                0.018613\n",
      "soil_rec_mat_origin             0.018259\n",
      "elevation_8                     0.017280\n",
      "soil_rec_tex_sup                0.016866\n",
      "placurv_13                      0.015289\n",
      "slope_13                        0.014882\n",
      "aspect_13                       0.014359\n",
      "soil_rec_c_tex_sup              0.013275\n",
      "aspect_3                        0.013135\n",
      "placurv_3                       0.011914\n",
      "placurv_23                      0.011204\n",
      "placurv_8                       0.011165\n",
      "slope_23                        0.010958\n",
      "slope_18                        0.010874\n",
      "aspect_8                        0.010832\n",
      "procurv_23                      0.010220\n",
      "procurv_18                      0.010134\n",
      "procurv_8                       0.009507\n",
      "slope_3                         0.009494\n",
      "slope_8                         0.009455\n",
      "procurv_13                      0.008791\n",
      "procurv_3                       0.008647\n",
      "aspect_23                       0.008402\n",
      "aspect_18                       0.007790\n",
      "placurv_18                      0.007714\n",
      "rock_period                     0.000000\n",
      "Features sorted by their score for estimator 1:\n",
      "                              importance\n",
      "elevation_18                    0.394278\n",
      "elevation_8                     0.059590\n",
      "precipitation_mm_last_7_days    0.047056\n",
      "elevation_3                     0.024422\n",
      "fis_nomr                        0.022164\n",
      "elevation_23                    0.021487\n",
      "soil_rec_c__tex_sub             0.020094\n",
      "rock_geo                        0.019868\n",
      "soil_rec_tex_sup                0.019397\n",
      "soil_rec_mat_origin             0.018347\n",
      "soil_rec_symbol                 0.018039\n",
      "soil_rec_sew_class              0.017521\n",
      "soil_rec_tex_sub                0.017016\n",
      "soil_use                        0.016898\n",
      "soil_rec_c_tex_sup              0.016716\n",
      "elevation_13                    0.016390\n",
      "soil_rec_risk_eros              0.016299\n",
      "soil_tax                        0.016088\n",
      "slope_13                        0.014977\n",
      "aspect_13                       0.014256\n",
      "placurv_13                      0.013298\n",
      "rock_type                       0.013149\n",
      "placurv_23                      0.011421\n",
      "placurv_18                      0.011118\n",
      "placurv_3                       0.010945\n",
      "slope_23                        0.010646\n",
      "aspect_18                       0.010349\n",
      "procurv_13                      0.010108\n",
      "slope_3                         0.009906\n",
      "aspect_8                        0.009803\n",
      "procurv_18                      0.009574\n",
      "placurv_8                       0.009290\n",
      "slope_18                        0.009222\n",
      "procurv_3                       0.009196\n",
      "aspect_3                        0.008936\n",
      "slope_8                         0.008813\n",
      "procurv_23                      0.008478\n",
      "procurv_8                       0.008339\n",
      "aspect_23                       0.006505\n",
      "rock_period                     0.000000\n",
      "Features sorted by their score for estimator 2:\n",
      "                              importance\n",
      "elevation_18                    0.335018\n",
      "elevation_13                    0.100081\n",
      "precipitation_mm_last_7_days    0.048362\n",
      "elevation_23                    0.027270\n",
      "elevation_8                     0.022758\n",
      "soil_rec_tex_sup                0.021084\n",
      "slope_13                        0.020801\n",
      "fis_nomr                        0.020609\n",
      "soil_rec_risk_eros              0.020225\n",
      "soil_rec_symbol                 0.019655\n",
      "soil_tax                        0.019489\n",
      "soil_rec_mat_origin             0.019309\n",
      "rock_geo                        0.018148\n",
      "soil_use                        0.017107\n",
      "soil_rec_sew_class              0.016308\n",
      "soil_rec_c__tex_sub             0.016271\n",
      "elevation_3                     0.015803\n",
      "rock_type                       0.015146\n",
      "soil_rec_tex_sub                0.014596\n",
      "soil_rec_c_tex_sup              0.014305\n",
      "placurv_13                      0.013267\n",
      "aspect_13                       0.012046\n",
      "placurv_3                       0.011631\n",
      "placurv_23                      0.011364\n",
      "slope_3                         0.011176\n",
      "slope_23                        0.010968\n",
      "slope_8                         0.010804\n",
      "aspect_3                        0.010682\n",
      "procurv_13                      0.010565\n",
      "slope_18                        0.010515\n",
      "procurv_3                       0.010390\n",
      "aspect_8                        0.010374\n",
      "placurv_8                       0.009693\n",
      "procurv_18                      0.009507\n",
      "aspect_23                       0.009463\n",
      "aspect_18                       0.009336\n",
      "procurv_23                      0.009038\n",
      "placurv_18                      0.009013\n",
      "procurv_8                       0.007824\n",
      "rock_period                     0.000000\n",
      "Features sorted by their score for estimator 3:\n",
      "                              importance\n",
      "elevation_3                     0.140049\n",
      "elevation_18                    0.119724\n",
      "precipitation_mm_last_7_days    0.065814\n",
      "elevation_8                     0.043438\n",
      "rock_type                       0.030443\n",
      "fis_nomr                        0.029322\n",
      "rock_geo                        0.027588\n",
      "soil_rec_tex_sup                0.027264\n",
      "soil_rec_sew_class              0.026501\n",
      "soil_rec_symbol                 0.025927\n",
      "soil_rec_risk_eros              0.025454\n",
      "soil_use                        0.023787\n",
      "soil_rec_mat_origin             0.023393\n",
      "soil_rec_tex_sub                0.022308\n",
      "elevation_23                    0.021440\n",
      "slope_13                        0.021049\n",
      "soil_tax                        0.020498\n",
      "elevation_13                    0.019131\n",
      "placurv_8                       0.019126\n",
      "aspect_13                       0.016622\n",
      "placurv_23                      0.016328\n",
      "slope_18                        0.016042\n",
      "aspect_3                        0.015272\n",
      "procurv_3                       0.014879\n",
      "procurv_8                       0.014649\n",
      "placurv_13                      0.014364\n",
      "slope_23                        0.014288\n",
      "procurv_23                      0.013997\n",
      "aspect_23                       0.013561\n",
      "slope_8                         0.012961\n",
      "soil_rec_c_tex_sup              0.012409\n",
      "slope_3                         0.012230\n",
      "aspect_18                       0.012169\n",
      "placurv_18                      0.012102\n",
      "aspect_8                        0.012065\n",
      "procurv_18                      0.011933\n",
      "placurv_3                       0.011063\n",
      "soil_rec_c__tex_sub             0.010422\n",
      "procurv_13                      0.010388\n",
      "rock_period                     0.000000\n",
      "Features sorted by their score for estimator 4:\n",
      "                              importance\n",
      "elevation_18                    0.186177\n",
      "elevation_8                     0.088591\n",
      "elevation_23                    0.072030\n",
      "elevation_3                     0.068512\n",
      "precipitation_mm_last_7_days    0.055895\n",
      "rock_type                       0.035538\n",
      "fis_nomr                        0.031485\n",
      "soil_rec_tex_sup                0.022316\n",
      "slope_13                        0.022076\n",
      "soil_use                        0.021653\n",
      "rock_geo                        0.021600\n",
      "soil_rec_sew_class              0.021135\n",
      "soil_tax                        0.019737\n",
      "soil_rec_symbol                 0.019638\n",
      "soil_rec_tex_sub                0.018831\n",
      "placurv_13                      0.018107\n",
      "soil_rec_mat_origin             0.016105\n",
      "soil_rec_risk_eros              0.014585\n",
      "aspect_13                       0.014189\n",
      "elevation_13                    0.013423\n",
      "placurv_8                       0.013398\n",
      "placurv_23                      0.013288\n",
      "soil_rec_c__tex_sub             0.013113\n",
      "slope_18                        0.012775\n",
      "aspect_3                        0.012456\n",
      "procurv_3                       0.012350\n",
      "slope_23                        0.012210\n",
      "procurv_8                       0.011903\n",
      "aspect_8                        0.011882\n",
      "procurv_23                      0.011791\n",
      "slope_8                         0.011772\n",
      "aspect_18                       0.011375\n",
      "procurv_18                      0.010962\n",
      "procurv_13                      0.010675\n",
      "placurv_18                      0.010610\n",
      "aspect_23                       0.010376\n",
      "slope_3                         0.010168\n",
      "placurv_3                       0.009538\n",
      "soil_rec_c_tex_sup              0.007736\n",
      "rock_period                     0.000000\n",
      "Cross Validation Scores:  {'fit_time': array([1.99202561, 2.08699584, 2.20899248, 2.10852432, 2.09253836]), 'score_time': array([0.04700112, 0.05199862, 0.04800367, 0.04800463, 0.04798698]), 'estimator': [XGBClassifier(base_score=0.5, booster='gbtree', colsample_bylevel=1,\n",
      "              colsample_bynode=1, colsample_bytree=1, enable_categorical=False,\n",
      "              gamma=0, gpu_id=-1, importance_type=None,\n",
      "              interaction_constraints='', learning_rate=0.300000012,\n",
      "              max_delta_step=0, max_depth=6, min_child_weight=1, missing=nan,\n",
      "              monotone_constraints='()', n_estimators=100, n_jobs=8,\n",
      "              num_parallel_tree=1, predictor='auto', random_state=0,\n",
      "              reg_alpha=0, reg_lambda=1, scale_pos_weight=1, subsample=1,\n",
      "              tree_method='exact', validate_parameters=1, verbosity=None), XGBClassifier(base_score=0.5, booster='gbtree', colsample_bylevel=1,\n",
      "              colsample_bynode=1, colsample_bytree=1, enable_categorical=False,\n",
      "              gamma=0, gpu_id=-1, importance_type=None,\n",
      "              interaction_constraints='', learning_rate=0.300000012,\n",
      "              max_delta_step=0, max_depth=6, min_child_weight=1, missing=nan,\n",
      "              monotone_constraints='()', n_estimators=100, n_jobs=8,\n",
      "              num_parallel_tree=1, predictor='auto', random_state=0,\n",
      "              reg_alpha=0, reg_lambda=1, scale_pos_weight=1, subsample=1,\n",
      "              tree_method='exact', validate_parameters=1, verbosity=None), XGBClassifier(base_score=0.5, booster='gbtree', colsample_bylevel=1,\n",
      "              colsample_bynode=1, colsample_bytree=1, enable_categorical=False,\n",
      "              gamma=0, gpu_id=-1, importance_type=None,\n",
      "              interaction_constraints='', learning_rate=0.300000012,\n",
      "              max_delta_step=0, max_depth=6, min_child_weight=1, missing=nan,\n",
      "              monotone_constraints='()', n_estimators=100, n_jobs=8,\n",
      "              num_parallel_tree=1, predictor='auto', random_state=0,\n",
      "              reg_alpha=0, reg_lambda=1, scale_pos_weight=1, subsample=1,\n",
      "              tree_method='exact', validate_parameters=1, verbosity=None), XGBClassifier(base_score=0.5, booster='gbtree', colsample_bylevel=1,\n",
      "              colsample_bynode=1, colsample_bytree=1, enable_categorical=False,\n",
      "              gamma=0, gpu_id=-1, importance_type=None,\n",
      "              interaction_constraints='', learning_rate=0.300000012,\n",
      "              max_delta_step=0, max_depth=6, min_child_weight=1, missing=nan,\n",
      "              monotone_constraints='()', n_estimators=100, n_jobs=8,\n",
      "              num_parallel_tree=1, predictor='auto', random_state=0,\n",
      "              reg_alpha=0, reg_lambda=1, scale_pos_weight=1, subsample=1,\n",
      "              tree_method='exact', validate_parameters=1, verbosity=None), XGBClassifier(base_score=0.5, booster='gbtree', colsample_bylevel=1,\n",
      "              colsample_bynode=1, colsample_bytree=1, enable_categorical=False,\n",
      "              gamma=0, gpu_id=-1, importance_type=None,\n",
      "              interaction_constraints='', learning_rate=0.300000012,\n",
      "              max_delta_step=0, max_depth=6, min_child_weight=1, missing=nan,\n",
      "              monotone_constraints='()', n_estimators=100, n_jobs=8,\n",
      "              num_parallel_tree=1, predictor='auto', random_state=0,\n",
      "              reg_alpha=0, reg_lambda=1, scale_pos_weight=1, subsample=1,\n",
      "              tree_method='exact', validate_parameters=1, verbosity=None)], 'test_roc_auc': array([0.94119387, 0.93980294, 0.95104415, 0.9384597 , 0.94849976]), 'test_precision_macro': array([0.86569806, 0.86866342, 0.88508316, 0.86427751, 0.86914182]), 'test_recall_macro': array([0.85721155, 0.86487473, 0.87365633, 0.8612759 , 0.86361995])}\n"
     ]
    }
   ],
   "source": [
    "# Train using Cross validation using oversample\n",
    "train_with_model_cross_validation_method(clf=clf,model=model,training_df=training,features=features,using_oversample=True)"
   ]
  },
  {
   "cell_type": "markdown",
   "metadata": {},
   "source": [
    "#### Tune Parameters"
   ]
  },
  {
   "cell_type": "code",
   "execution_count": 73,
   "metadata": {},
   "outputs": [],
   "source": [
    "import xgboost as xgb\n",
    "clf = xgb.XGBClassifier(random_state=0, learning_rate=0.001,eval_metric='error')\n",
    "model = \"XGBoost\""
   ]
  },
  {
   "cell_type": "code",
   "execution_count": 54,
   "metadata": {},
   "outputs": [
    {
     "name": "stdout",
     "output_type": "stream",
     "text": [
      "[00:27:32] WARNING: C:/Users/Administrator/workspace/xgboost-win64_release_1.5.1/src/learner.cc:1115: Starting in XGBoost 1.3.0, the default evaluation metric used with the objective 'binary:logistic' was changed from 'error' to 'logloss'. Explicitly set eval_metric if you'd like to restore the old behavior.\n",
      "Model XGBoost using oversample\n",
      "Scores\n",
      "Accuracy score: 0.8750441228379809\n",
      "RocAuc score: 0.9376620010368066\n",
      "Confusion Matrix\n",
      "[[ 723  181]\n",
      " [ 173 1756]]\n",
      "Classification Report\n",
      "               precision    recall  f1-score   support\n",
      "\n",
      "non_landslide       0.91      0.91      0.91      1929\n",
      "    landslide       0.81      0.80      0.80       904\n",
      "\n",
      "     accuracy                           0.88      2833\n",
      "    macro avg       0.86      0.86      0.86      2833\n",
      " weighted avg       0.87      0.88      0.87      2833\n",
      "\n",
      " Roc Curve\n"
     ]
    },
    {
     "data": {
      "image/png": "[encoded data removed]",
      "text/plain": [
       "<Figure size 432x288 with 1 Axes>"
      ]
     },
     "metadata": {
      "needs_background": "light"
     },
     "output_type": "display_data"
    },
    {
     "name": "stdout",
     "output_type": "stream",
     "text": [
      "Feature Importance\n",
      "\tPlace\tFeature\t%\n",
      "\t1\televation_18\t12.01\n",
      "\t2\televation_3\t12.0\n",
      "\t3\televation_23\t8.37\n",
      "\t4\televation_13\t7.3\n",
      "\t5\tprecipitation_mm_last_7_days\t5.61\n",
      "\t6\televation_8\t2.87\n",
      "\t7\tsoil_rec_symbol\t2.52\n",
      "\t8\tsoil_rec_sew_class\t2.49\n",
      "\t9\tfis_nomr\t2.45\n",
      "\t10\tsoil_rec_tex_sub\t2.3\n",
      "\t11\tslope_13\t2.19\n",
      "\t12\tsoil_rec_mat_origin\t2.19\n",
      "\t13\trock_geo\t2.15\n",
      "\t14\tsoil_use\t2.09\n",
      "\t15\trock_type\t2.06\n",
      "\t16\tsoil_tax\t2.04\n",
      "\t17\tsoil_rec_tex_sup\t2.0\n",
      "\t18\tsoil_rec_risk_eros\t1.85\n",
      "\t19\tplacurv_13\t1.76\n",
      "\t20\tplacurv_23\t1.56\n",
      "\t21\taspect_3\t1.54\n",
      "\t22\taspect_13\t1.39\n",
      "\t23\tprocurv_18\t1.31\n",
      "\t24\tsoil_rec_c_tex_sup\t1.3\n",
      "\t25\tslope_23\t1.26\n",
      "\t26\tslope_18\t1.2\n",
      "\t27\tslope_8\t1.17\n",
      "\t28\taspect_8\t1.16\n",
      "\t29\taspect_18\t1.14\n",
      "\t30\tslope_3\t1.13\n",
      "\t31\tplacurv_3\t1.13\n",
      "\t32\tprocurv_23\t1.13\n",
      "\t33\tplacurv_18\t1.12\n",
      "\t34\tplacurv_8\t1.11\n",
      "\t35\tprocurv_13\t1.07\n",
      "\t36\tprocurv_8\t1.03\n",
      "\t37\tsoil_rec_c__tex_sub\t1.02\n",
      "\t38\tprocurv_3\t1.01\n",
      "\t39\taspect_23\t0.97\n"
     ]
    },
    {
     "data": {
      "text/plain": [
       "(0.8750441228379809, 0.9376620010368066)"
      ]
     },
     "execution_count": 54,
     "metadata": {},
     "output_type": "execute_result"
    }
   ],
   "source": [
    "# Train  Using oversample\n",
    "train_with_model_train_test_method(clf=clf,model=model,X_train=X_train, y_train=y_train, X_test=X_test, y_test=y_test,using_oversample=True)"
   ]
  },
  {
   "cell_type": "markdown",
   "metadata": {},
   "source": [
    "### Train With SVMClassifier"
   ]
  },
  {
   "cell_type": "code",
   "execution_count": 55,
   "metadata": {},
   "outputs": [],
   "source": [
    "from sklearn import svm\n",
    "clf = svm.SVC(random_state=0,probability=True)\n",
    "model = \"SVM\"\n"
   ]
  },
  {
   "cell_type": "code",
   "execution_count": 56,
   "metadata": {},
   "outputs": [
    {
     "name": "stdout",
     "output_type": "stream",
     "text": [
      "Model SVM \n",
      "Scores\n",
      "Accuracy score: 0.7839745852453229\n",
      "RocAuc score: 0.7945416832968616\n",
      "Confusion Matrix\n",
      "[[ 602  302]\n",
      " [ 310 1619]]\n",
      "Classification Report\n",
      "               precision    recall  f1-score   support\n",
      "\n",
      "non_landslide       0.84      0.84      0.84      1929\n",
      "    landslide       0.66      0.67      0.66       904\n",
      "\n",
      "     accuracy                           0.78      2833\n",
      "    macro avg       0.75      0.75      0.75      2833\n",
      " weighted avg       0.78      0.78      0.78      2833\n",
      "\n",
      " Roc Curve\n"
     ]
    },
    {
     "data": {
      "image/png": "[encoded data removed]",
      "text/plain": [
       "<Figure size 432x288 with 1 Axes>"
      ]
     },
     "metadata": {
      "needs_background": "light"
     },
     "output_type": "display_data"
    },
    {
     "name": "stdout",
     "output_type": "stream",
     "text": [
      "Feature Importance\n"
     ]
    },
    {
     "data": {
      "text/plain": [
       "(0.7839745852453229, 0.7945416832968616)"
      ]
     },
     "execution_count": 56,
     "metadata": {},
     "output_type": "execute_result"
    }
   ],
   "source": [
    "# Train Not Using oversample\n",
    "train_with_model_train_test_method(clf=clf,model=model,X_train=X_train, y_train=y_train, X_test=X_test, y_test=y_test)\n"
   ]
  },
  {
   "cell_type": "code",
   "execution_count": 57,
   "metadata": {},
   "outputs": [
    {
     "name": "stdout",
     "output_type": "stream",
     "text": [
      "Model SVM using oversample\n",
      "Scores\n",
      "Accuracy score: 0.753618072714437\n",
      "RocAuc score: 0.8409023658459379\n",
      "Confusion Matrix\n",
      "[[ 737  167]\n",
      " [ 531 1398]]\n",
      "Classification Report\n",
      "               precision    recall  f1-score   support\n",
      "\n",
      "non_landslide       0.89      0.72      0.80      1929\n",
      "    landslide       0.58      0.82      0.68       904\n",
      "\n",
      "     accuracy                           0.75      2833\n",
      "    macro avg       0.74      0.77      0.74      2833\n",
      " weighted avg       0.79      0.75      0.76      2833\n",
      "\n",
      " Roc Curve\n"
     ]
    },
    {
     "data": {
      "image/png": "[encoded data removed]",
      "text/plain": [
       "<Figure size 432x288 with 1 Axes>"
      ]
     },
     "metadata": {
      "needs_background": "light"
     },
     "output_type": "display_data"
    },
    {
     "name": "stdout",
     "output_type": "stream",
     "text": [
      "Feature Importance\n"
     ]
    },
    {
     "data": {
      "text/plain": [
       "(0.753618072714437, 0.8409023658459379)"
      ]
     },
     "execution_count": 57,
     "metadata": {},
     "output_type": "execute_result"
    }
   ],
   "source": [
    "# Train  Using oversample\n",
    "train_with_model_train_test_method(clf=clf,model=model,X_train=X_res, y_train=y_res, X_test=X_test, y_test=y_test,using_oversample=True)"
   ]
  },
  {
   "cell_type": "markdown",
   "metadata": {},
   "source": [
    "### Train With Neural Networks"
   ]
  },
  {
   "cell_type": "code",
   "execution_count": 151,
   "metadata": {},
   "outputs": [],
   "source": [
    "from sklearn.neural_network import MLPClassifier\n",
    "clf = MLPClassifier(solver='lbfgs', alpha=1e-5,\n",
    "    hidden_layer_sizes=(20), random_state=0)\n",
    "model = \"NeuralNetworksMLPClassifier\"\n"
   ]
  },
  {
   "cell_type": "code",
   "execution_count": 152,
   "metadata": {},
   "outputs": [
    {
     "name": "stdout",
     "output_type": "stream",
     "text": [
      "Model NeuralNetworksMLPClassifier \n",
      "Scores\n",
      "Accuracy score: 0.815037063183904\n",
      "RocAuc score: 0.8742055007602725\n",
      "Confusion Matrix\n",
      "[[ 624  254]\n",
      " [ 270 1685]]\n",
      "Classification Report\n",
      "               precision    recall  f1-score   support\n",
      "\n",
      "non_landslide       0.87      0.86      0.87      1955\n",
      "    landslide       0.70      0.71      0.70       878\n",
      "\n",
      "     accuracy                           0.82      2833\n",
      "    macro avg       0.78      0.79      0.78      2833\n",
      " weighted avg       0.82      0.82      0.82      2833\n",
      "\n",
      " Roc Curve\n"
     ]
    },
    {
     "name": "stderr",
     "output_type": "stream",
     "text": [
      "e:\\PROGRAMS\\python39\\lib\\site-packages\\sklearn\\neural_network\\_multilayer_perceptron.py:549: ConvergenceWarning: lbfgs failed to converge (status=1):\n",
      "STOP: TOTAL NO. of ITERATIONS REACHED LIMIT.\n",
      "\n",
      "Increase the number of iterations (max_iter) or scale the data as shown in:\n",
      "    https://scikit-learn.org/stable/modules/preprocessing.html\n",
      "  self.n_iter_ = _check_optimize_result(\"lbfgs\", opt_res, self.max_iter)\n"
     ]
    },
    {
     "data": {
      "image/png": "[encoded data removed]",
      "text/plain": [
       "<Figure size 432x288 with 1 Axes>"
      ]
     },
     "metadata": {
      "needs_background": "light"
     },
     "output_type": "display_data"
    },
    {
     "name": "stdout",
     "output_type": "stream",
     "text": [
      "Feature Importance\n"
     ]
    }
   ],
   "source": [
    "# Train Not Using oversample\n",
    "train_with_model_train_test_method(clf=clf,model=model,X_train=X_train, y_train=y_train, X_test=X_test, y_test=y_test)\n"
   ]
  },
  {
   "cell_type": "code",
   "execution_count": 153,
   "metadata": {},
   "outputs": [
    {
     "name": "stdout",
     "output_type": "stream",
     "text": [
      "Model NeuralNetworksMLPClassifier using overfit\n",
      "Scores\n",
      "Accuracy score: 0.740557712672079\n",
      "RocAuc score: 0.8302314607134327\n",
      "Confusion Matrix\n",
      "[[ 742  136]\n",
      " [ 599 1356]]\n",
      "Classification Report\n",
      "               precision    recall  f1-score   support\n",
      "\n",
      "non_landslide       0.91      0.69      0.79      1955\n",
      "    landslide       0.55      0.85      0.67       878\n",
      "\n",
      "     accuracy                           0.74      2833\n",
      "    macro avg       0.73      0.77      0.73      2833\n",
      " weighted avg       0.80      0.74      0.75      2833\n",
      "\n",
      " Roc Curve\n"
     ]
    },
    {
     "name": "stderr",
     "output_type": "stream",
     "text": [
      "e:\\PROGRAMS\\python39\\lib\\site-packages\\sklearn\\neural_network\\_multilayer_perceptron.py:549: ConvergenceWarning: lbfgs failed to converge (status=1):\n",
      "STOP: TOTAL NO. of ITERATIONS REACHED LIMIT.\n",
      "\n",
      "Increase the number of iterations (max_iter) or scale the data as shown in:\n",
      "    https://scikit-learn.org/stable/modules/preprocessing.html\n",
      "  self.n_iter_ = _check_optimize_result(\"lbfgs\", opt_res, self.max_iter)\n"
     ]
    },
    {
     "data": {
      "image/png": "[encoded data removed]",
      "text/plain": [
       "<Figure size 432x288 with 1 Axes>"
      ]
     },
     "metadata": {
      "needs_background": "light"
     },
     "output_type": "display_data"
    },
    {
     "name": "stdout",
     "output_type": "stream",
     "text": [
      "Feature Importance\n"
     ]
    }
   ],
   "source": [
    "# Train  Using oversample\n",
    "train_with_model_train_test_method(clf=clf,model=model,X_train=X_res, y_train=y_res, X_test=X_test, y_test=y_test,using_oversample=True)"
   ]
  },
  {
   "cell_type": "markdown",
   "metadata": {},
   "source": [
    "### Train With Bagging Classifer"
   ]
  },
  {
   "cell_type": "code",
   "execution_count": 154,
   "metadata": {},
   "outputs": [],
   "source": [
    "from sklearn.ensemble import BaggingClassifier\n",
    "clf = BaggingClassifier(\n",
    "                      n_estimators=10, random_state=0)\n",
    "model = \"BaggingClasssifer\"\n"
   ]
  },
  {
   "cell_type": "code",
   "execution_count": 155,
   "metadata": {},
   "outputs": [
    {
     "name": "stdout",
     "output_type": "stream",
     "text": [
      "Model BaggingClasssifer \n",
      "Scores\n",
      "Accuracy score: 0.8566890222379103\n",
      "RocAuc score: 0.9127017926116667\n",
      "Confusion Matrix\n",
      "[[ 632  246]\n",
      " [ 160 1795]]\n",
      "Classification Report\n",
      "               precision    recall  f1-score   support\n",
      "\n",
      "non_landslide       0.88      0.92      0.90      1955\n",
      "    landslide       0.80      0.72      0.76       878\n",
      "\n",
      "     accuracy                           0.86      2833\n",
      "    macro avg       0.84      0.82      0.83      2833\n",
      " weighted avg       0.85      0.86      0.85      2833\n",
      "\n",
      " Roc Curve\n"
     ]
    },
    {
     "data": {
      "image/png": "[encoded data removed]",
      "text/plain": [
       "<Figure size 432x288 with 1 Axes>"
      ]
     },
     "metadata": {
      "needs_background": "light"
     },
     "output_type": "display_data"
    },
    {
     "name": "stdout",
     "output_type": "stream",
     "text": [
      "Feature Importance\n"
     ]
    }
   ],
   "source": [
    "# Train Not Using oversample\n",
    "train_with_model_train_test_method(clf=clf,model=model,X_train=X_train, y_train=y_train, X_test=X_test, y_test=y_test)\n"
   ]
  },
  {
   "cell_type": "code",
   "execution_count": 156,
   "metadata": {},
   "outputs": [
    {
     "name": "stdout",
     "output_type": "stream",
     "text": [
      "Model BaggingClasssifer using overfit\n",
      "Scores\n",
      "Accuracy score: 0.9488175079421108\n",
      "RocAuc score: 0.9833270220042063\n",
      "Confusion Matrix\n",
      "[[ 795   83]\n",
      " [  62 1893]]\n",
      "Classification Report\n",
      "               precision    recall  f1-score   support\n",
      "\n",
      "non_landslide       0.96      0.97      0.96      1955\n",
      "    landslide       0.93      0.91      0.92       878\n",
      "\n",
      "     accuracy                           0.95      2833\n",
      "    macro avg       0.94      0.94      0.94      2833\n",
      " weighted avg       0.95      0.95      0.95      2833\n",
      "\n",
      " Roc Curve\n"
     ]
    },
    {
     "data": {
      "image/png": "[encoded data removed]",
      "text/plain": [
       "<Figure size 432x288 with 1 Axes>"
      ]
     },
     "metadata": {
      "needs_background": "light"
     },
     "output_type": "display_data"
    },
    {
     "name": "stdout",
     "output_type": "stream",
     "text": [
      "Feature Importance\n"
     ]
    }
   ],
   "source": [
    "# Train  Using oversample\n",
    "train_with_model_train_test_method(clf=clf,model=model,X_train=X_res, y_train=y_res, X_test=X_test, y_test=y_test,using_oversample=True)"
   ]
  },
  {
   "cell_type": "markdown",
   "metadata": {},
   "source": [
    "### Train With Naive Bayer Classifer"
   ]
  },
  {
   "cell_type": "code",
   "execution_count": 157,
   "metadata": {},
   "outputs": [],
   "source": [
    "from sklearn.naive_bayes import GaussianNB\n",
    "clf = GaussianNB()\n",
    "model = \"NaiveBayer\"\n"
   ]
  },
  {
   "cell_type": "code",
   "execution_count": 158,
   "metadata": {},
   "outputs": [
    {
     "name": "stdout",
     "output_type": "stream",
     "text": [
      "Model NaiveBayer \n",
      "Scores\n",
      "Accuracy score: 0.7571478997529121\n",
      "RocAuc score: 0.8177717318481321\n",
      "Confusion Matrix\n",
      "[[ 640  238]\n",
      " [ 450 1505]]\n",
      "Classification Report\n",
      "               precision    recall  f1-score   support\n",
      "\n",
      "non_landslide       0.86      0.77      0.81      1955\n",
      "    landslide       0.59      0.73      0.65       878\n",
      "\n",
      "     accuracy                           0.76      2833\n",
      "    macro avg       0.73      0.75      0.73      2833\n",
      " weighted avg       0.78      0.76      0.76      2833\n",
      "\n",
      " Roc Curve\n"
     ]
    },
    {
     "data": {
      "image/png": "[encoded data removed]",
      "text/plain": [
       "<Figure size 432x288 with 1 Axes>"
      ]
     },
     "metadata": {
      "needs_background": "light"
     },
     "output_type": "display_data"
    },
    {
     "name": "stdout",
     "output_type": "stream",
     "text": [
      "Feature Importance\n"
     ]
    }
   ],
   "source": [
    "# Train Not Using oversample\n",
    "train_with_model_train_test_method(clf=clf,model=model,X_train=X_train, y_train=y_train, X_test=X_test, y_test=y_test)\n"
   ]
  },
  {
   "cell_type": "code",
   "execution_count": 159,
   "metadata": {},
   "outputs": [
    {
     "name": "stdout",
     "output_type": "stream",
     "text": [
      "Model NaiveBayer using overfit\n",
      "Scores\n",
      "Accuracy score: 0.7606777267913872\n",
      "RocAuc score: 0.8175523888866232\n",
      "Confusion Matrix\n",
      "[[ 651  227]\n",
      " [ 451 1504]]\n",
      "Classification Report\n",
      "               precision    recall  f1-score   support\n",
      "\n",
      "non_landslide       0.87      0.77      0.82      1955\n",
      "    landslide       0.59      0.74      0.66       878\n",
      "\n",
      "     accuracy                           0.76      2833\n",
      "    macro avg       0.73      0.76      0.74      2833\n",
      " weighted avg       0.78      0.76      0.77      2833\n",
      "\n",
      " Roc Curve\n"
     ]
    },
    {
     "data": {
      "image/png": "[encoded data removed]",
      "text/plain": [
       "<Figure size 432x288 with 1 Axes>"
      ]
     },
     "metadata": {
      "needs_background": "light"
     },
     "output_type": "display_data"
    },
    {
     "name": "stdout",
     "output_type": "stream",
     "text": [
      "Feature Importance\n"
     ]
    }
   ],
   "source": [
    "# Train  Using oversample\n",
    "train_with_model_train_test_method(clf=clf,model=model,X_train=X_res, y_train=y_res, X_test=X_test, y_test=y_test,using_oversample=True)"
   ]
  }
 ],
 "metadata": {
  "kernelspec": {
   "display_name": "Python 3.9.5 64-bit",
   "language": "python",
   "name": "python3"
  },
  "language_info": {
   "codemirror_mode": {
    "name": "ipython",
    "version": 3
   },
   "file_extension": ".py",
   "mimetype": "text/x-python",
   "name": "python",
   "nbconvert_exporter": "python",
   "pygments_lexer": "ipython3",
   "version": "3.9.5"
  },
  "orig_nbformat": 4,
  "vscode": {
   "interpreter": {
    "hash": "c2bb2e97071d6f6d71a511e7c5a65101a5b027acb6e061939bdcc6bbc980cab9"
   }
  }
 },
 "nbformat": 4,
 "nbformat_minor": 2
}
