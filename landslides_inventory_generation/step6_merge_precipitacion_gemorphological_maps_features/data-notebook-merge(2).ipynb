{
 "cells": [
  {
   "cell_type": "code",
   "execution_count": 1,
   "metadata": {},
   "outputs": [],
   "source": [
    "import numpy as np\n",
    "import pandas as pd\n",
    "import os\n"
   ]
  },
  {
   "cell_type": "markdown",
   "metadata": {},
   "source": [
    "Constantes"
   ]
  },
  {
   "cell_type": "code",
   "execution_count": 10,
   "metadata": {},
   "outputs": [],
   "source": [
    "DATA_PATH = './data_merger_23_10_2022.csv'\n",
    "DATA_INSIVUMEH_PATH = './data_with_precipitation.csv'\n",
    "RES_DATA = './data_train_merged_23_10.csv'"
   ]
  },
  {
   "cell_type": "markdown",
   "metadata": {},
   "source": [
    "Graficar la data"
   ]
  },
  {
   "cell_type": "code",
   "execution_count": 11,
   "metadata": {},
   "outputs": [],
   "source": [
    "class DefaultMetaObj:\n",
    "    geotransform = [0,1,0,0,0,-1]\n",
    "\n",
    "class DataGenerator:\n",
    "    def __init__(self, data_directory_1, data_directory_2):\n",
    "        self.data1 = pd.read_csv(data_directory_1)\n",
    "        self.data1.drop_duplicates(keep='first', inplace=True)\n",
    "        print(len(self.data1))\n",
    "        self.data2 = pd.read_csv(data_directory_2, index_col=0)\n",
    "        self.data2.drop_duplicates(keep='first', inplace=True)\n",
    "        print(len(self.data2))\n",
    "\n",
    "    def getData(self):\n",
    "        output = pd.merge(self.data1, self.data2, how='inner', on='landslide_id')\n",
    "        return output"
   ]
  },
  {
   "cell_type": "code",
   "execution_count": 12,
   "metadata": {},
   "outputs": [
    {
     "name": "stdout",
     "output_type": "stream",
     "text": [
      "10190\n",
      "9742\n"
     ]
    }
   ],
   "source": [
    "dg = DataGenerator(DATA_INSIVUMEH_PATH, DATA_PATH)\n",
    "data = dg.getData()"
   ]
  },
  {
   "cell_type": "code",
   "execution_count": 13,
   "metadata": {},
   "outputs": [
    {
     "data": {
      "text/plain": [
       "9742"
      ]
     },
     "execution_count": 13,
     "metadata": {},
     "output_type": "execute_result"
    }
   ],
   "source": [
    "len(data)"
   ]
  },
  {
   "cell_type": "code",
   "execution_count": 14,
   "metadata": {},
   "outputs": [
    {
     "data": {
      "text/plain": [
       "rock_geo                  6\n",
       "rock_period               6\n",
       "fis_nomr                  6\n",
       "rock_type                20\n",
       "soil_rec_symbol           6\n",
       "soil_rec_mat_origin     662\n",
       "soil_rec_sew_class      720\n",
       "soil_rec_tex_sup        731\n",
       "soil_rec_c_tex_sup      731\n",
       "soil_rec_tex_sub        818\n",
       "soil_rec_c__tex_sub    1212\n",
       "soil_rec_risk_eros      759\n",
       "soil_tax                  4\n",
       "soil_use                  6\n",
       "dtype: int64"
      ]
     },
     "execution_count": 14,
     "metadata": {},
     "output_type": "execute_result"
    }
   ],
   "source": [
    "na_data = data.isnull().sum()\n",
    "na_data[na_data > 0]"
   ]
  },
  {
   "cell_type": "code",
   "execution_count": 15,
   "metadata": {},
   "outputs": [
    {
     "data": {
      "text/plain": [
       "9742"
      ]
     },
     "execution_count": 15,
     "metadata": {},
     "output_type": "execute_result"
    }
   ],
   "source": [
    "len(data)"
   ]
  },
  {
   "cell_type": "code",
   "execution_count": 18,
   "metadata": {},
   "outputs": [
    {
     "data": {
      "text/plain": [
       "0    5764\n",
       "1    3978\n",
       "Name: landslide, dtype: int64"
      ]
     },
     "execution_count": 18,
     "metadata": {},
     "output_type": "execute_result"
    }
   ],
   "source": [
    "data['landslide'].value_counts()"
   ]
  },
  {
   "cell_type": "code",
   "execution_count": 19,
   "metadata": {},
   "outputs": [],
   "source": [
    "data.to_csv(RES_DATA)  "
   ]
  }
 ],
 "metadata": {
  "kernelspec": {
   "display_name": "Python 3.9.5 64-bit",
   "language": "python",
   "name": "python3"
  },
  "language_info": {
   "codemirror_mode": {
    "name": "ipython",
    "version": 3
   },
   "file_extension": ".py",
   "mimetype": "text/x-python",
   "name": "python",
   "nbconvert_exporter": "python",
   "pygments_lexer": "ipython3",
   "version": "3.9.5"
  },
  "orig_nbformat": 4,
  "vscode": {
   "interpreter": {
    "hash": "c2bb2e97071d6f6d71a511e7c5a65101a5b027acb6e061939bdcc6bbc980cab9"
   }
  }
 },
 "nbformat": 4,
 "nbformat_minor": 2
}
