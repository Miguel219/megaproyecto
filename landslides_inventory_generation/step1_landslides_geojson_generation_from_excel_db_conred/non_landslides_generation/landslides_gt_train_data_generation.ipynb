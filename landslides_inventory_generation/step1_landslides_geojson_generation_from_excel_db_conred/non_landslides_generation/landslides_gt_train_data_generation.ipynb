{
 "cells": [
  {
   "cell_type": "markdown",
   "metadata": {},
   "source": [
    "Importing train data with landslides and non landslides in csv to generate final geojson"
   ]
  },
  {
   "cell_type": "code",
   "execution_count": 1,
   "metadata": {},
   "outputs": [],
   "source": [
    "# Import libraries needed\n",
    "import pandas as pd\n",
    "from geojson import Feature, Point, FeatureCollection,dumps\n"
   ]
  },
  {
   "cell_type": "code",
   "execution_count": 2,
   "metadata": {},
   "outputs": [],
   "source": [
    "PATH_INPUT_CSV = 'landslides_train_with_date.csv'\n",
    "PATH_OUTPUT_GEOJSON = \"landslides_data_train.geojson\""
   ]
  },
  {
   "cell_type": "code",
   "execution_count": 3,
   "metadata": {},
   "outputs": [],
   "source": [
    "# We read csv with train data\n",
    "train_data = pd.read_csv(PATH_INPUT_CSV)\n"
   ]
  },
  {
   "cell_type": "code",
   "execution_count": 4,
   "metadata": {},
   "outputs": [
    {
     "data": {
      "text/plain": [
       "landslide_id    12187\n",
       "latitude        12187\n",
       "longitude       12187\n",
       "landslide       12187\n",
       "event_date      12187\n",
       "dtype: int64"
      ]
     },
     "execution_count": 4,
     "metadata": {},
     "output_type": "execute_result"
    }
   ],
   "source": [
    "train_data.count()"
   ]
  },
  {
   "cell_type": "code",
   "execution_count": 5,
   "metadata": {},
   "outputs": [
    {
     "data": {
      "text/plain": [
       "landslide_id      int64\n",
       "latitude        float64\n",
       "longitude       float64\n",
       "landslide         int64\n",
       "event_date       object\n",
       "dtype: object"
      ]
     },
     "execution_count": 5,
     "metadata": {},
     "output_type": "execute_result"
    }
   ],
   "source": [
    "train_data.dtypes"
   ]
  },
  {
   "cell_type": "code",
   "execution_count": 9,
   "metadata": {},
   "outputs": [],
   "source": [
    "# We now create a geojson from the training data in csv format\n",
    "def generate_geojson_landslides_train_data(train_data,output_path):\n",
    "    features = []\n",
    "    for index,row in train_data.iterrows():\n",
    "            latitude = float(row['latitude'])\n",
    "            longitude = float(row['longitude'])\n",
    "            row_properties = {\n",
    "                'landslide_id':str(row['landslide_id']),\n",
    "                'latitude' : str(row['latitude']),\n",
    "                'longitude' : str(row['longitude']),\n",
    "                'landslide' : str(row['landslide']),\n",
    "                'event_date' : str(row['event_date']).split(\" \")[0],\n",
    "            \n",
    "            }\n",
    "            row_point = Point(coordinates=(longitude,latitude))\n",
    "            row_feature = Feature(geometry=row_point,properties=row_properties)\n",
    "            features.append(row_feature)    \n",
    "    feature_collection_landslides = FeatureCollection(features=features)\n",
    "    dump_landslides = dumps(feature_collection_landslides)\n",
    "    f = open(output_path, \"w\")\n",
    "    f.write(dump_landslides)\n",
    "    f.close()\n",
    "\n"
   ]
  },
  {
   "cell_type": "code",
   "execution_count": 10,
   "metadata": {},
   "outputs": [],
   "source": [
    "generate_geojson_landslides_train_data(train_data,PATH_OUTPUT_GEOJSON)"
   ]
  },
  {
   "cell_type": "code",
   "execution_count": 16,
   "metadata": {},
   "outputs": [],
   "source": []
  }
 ],
 "metadata": {
  "kernelspec": {
   "display_name": "Python 3.7.9 ('.venv': venv)",
   "language": "python",
   "name": "python3"
  },
  "language_info": {
   "codemirror_mode": {
    "name": "ipython",
    "version": 3
   },
   "file_extension": ".py",
   "mimetype": "text/x-python",
   "name": "python",
   "nbconvert_exporter": "python",
   "pygments_lexer": "ipython3",
   "version": "3.9.5"
  },
  "orig_nbformat": 4,
  "vscode": {
   "interpreter": {
    "hash": "29210ba0e00f77dbf103f221e3779ec1e6380ae613c2739c83cf84f1407e86db"
   }
  }
 },
 "nbformat": 4,
 "nbformat_minor": 2
}
