{
 "cells": [
  {
   "cell_type": "markdown",
   "metadata": {},
   "source": [
    "Generating landslides geojson from database of Conred containg all type of disaster in an excel"
   ]
  },
  {
   "cell_type": "code",
   "execution_count": 35,
   "metadata": {},
   "outputs": [],
   "source": [
    "# Import libraries needed\n",
    "import pandas as pd\n",
    "from geojson import Feature, Point, FeatureCollection,dumps\n"
   ]
  },
  {
   "cell_type": "code",
   "execution_count": 36,
   "metadata": {},
   "outputs": [],
   "source": [
    "PATH_INPUT_EXCEL = 'historico_derrumbes.xlsx'\n",
    "EXCEL_PAGE_NAME = 'Filtro'\n",
    "PATH_OUTPUT_GEOJSON = \"data_landslides.geojson\""
   ]
  },
  {
   "cell_type": "code",
   "execution_count": 37,
   "metadata": {},
   "outputs": [],
   "source": [
    "# We read Excel with Historic data of landslides and other events\n",
    "historico = pd.read_excel(PATH_INPUT_EXCEL,EXCEL_PAGE_NAME)\n"
   ]
  },
  {
   "cell_type": "code",
   "execution_count": 38,
   "metadata": {},
   "outputs": [],
   "source": [
    "# We filter for the events we need that are catalogued as landslides\n",
    "historico_derrumbes = historico[historico.Tipo.isin(['Derrumbe','Deslizamiento','Flujo De Lodo'])]"
   ]
  },
  {
   "cell_type": "code",
   "execution_count": 26,
   "metadata": {},
   "outputs": [
    {
     "data": {
      "text/plain": [
       "Latitud         4230\n",
       "Longitud        4230\n",
       "Fecha           4230\n",
       "Evento          4225\n",
       "Tipo            4230\n",
       "Departamento    4230\n",
       "Municipio       4228\n",
       "Incidente       4230\n",
       "dtype: int64"
      ]
     },
     "execution_count": 26,
     "metadata": {},
     "output_type": "execute_result"
    }
   ],
   "source": [
    "historico_derrumbes.count()\n"
   ]
  },
  {
   "cell_type": "code",
   "execution_count": 27,
   "metadata": {},
   "outputs": [
    {
     "name": "stdout",
     "output_type": "stream",
     "text": [
      "Year 2008 has 231 landslides.\n",
      "Year 2009 has 25 landslides.\n",
      "Year 2010 has 928 landslides.\n",
      "Year 2011 has 372 landslides.\n",
      "Year 2012 has 103 landslides.\n",
      "Year 2013 has 156 landslides.\n",
      "Year 2014 has 297 landslides.\n",
      "Year 2015 has 115 landslides.\n",
      "Year 2016 has 71 landslides.\n",
      "Year 2017 has 207 landslides.\n",
      "Year 2018 has 125 landslides.\n",
      "Year 2019 has 192 landslides.\n",
      "Year 2020 has 1087 landslides.\n",
      "Year 2021 has 279 landslides.\n",
      "Year 2022 has 42 landslides.\n",
      "Total of landslides 4230\n"
     ]
    }
   ],
   "source": [
    "# Check how many landslides we have for each year\n",
    "landslides_total  = 0\n",
    "for year in range(2008,2023):\n",
    "    landslides_year_count = historico_derrumbes[historico_derrumbes.Fecha.dt.year==year]['Latitud'].count()\n",
    "    print(\"Year {} has {} landslides.\".format(year, landslides_year_count))\n",
    "    landslides_total += landslides_year_count\n",
    "print(\"Total of landslides {}\".format(landslides_total))\n"
   ]
  },
  {
   "cell_type": "code",
   "execution_count": 41,
   "metadata": {},
   "outputs": [
    {
     "name": "stdout",
     "output_type": "stream",
     "text": [
      "Departmento Guatemala has 629 landslides.\n",
      "Departmento Chimaltenango has 172 landslides.\n",
      "Departmento Solola has 373 landslides.\n",
      "Departmento Quetzaltenango has 171 landslides.\n",
      "Departmento Totonicapan has 125 landslides.\n",
      "Departmento Retalhuleu has 11 landslides.\n",
      "Departmento Sacatepequez has 105 landslides.\n",
      "Departmento Quiche has 440 landslides.\n",
      "Departmento San Marcos has 227 landslides.\n",
      "Departmento Jutiapa has 59 landslides.\n",
      "Departmento Alta Verapaz has 475 landslides.\n",
      "Departmento Jalapa has 65 landslides.\n",
      "Departmento Santa Rosa has 65 landslides.\n",
      "Departmento Chiquimula has 94 landslides.\n",
      "Departmento Huehuetenango has 521 landslides.\n",
      "Departmento Zacapa has 251 landslides.\n",
      "Departmento Baja Verapaz has 97 landslides.\n",
      "Departmento Izabal has 93 landslides.\n",
      "Departmento El Progreso has 154 landslides.\n",
      "Departmento Suchitepequez has 57 landslides.\n",
      "Departmento Peten has 21 landslides.\n",
      "Departmento Escuintla has 25 landslides.\n",
      "Total of landslides 4230\n"
     ]
    }
   ],
   "source": [
    "# Check how many landslides we have for each department\n",
    "landslides_total  = 0\n",
    "for departamento in historico_derrumbes.Departamento.unique():\n",
    "    landslides_department_count = historico_derrumbes[historico_derrumbes.Departamento==departamento]['Latitud'].count()\n",
    "    print(\"Departmento {} has {} landslides.\".format(departamento, landslides_department_count))\n",
    "    landslides_total += landslides_department_count\n",
    "print(\"Total of landslides {}\".format(landslides_total))"
   ]
  },
  {
   "cell_type": "code",
   "execution_count": 28,
   "metadata": {},
   "outputs": [],
   "source": [
    "# We now create a geojson from the data of landslides\n",
    "features = []\n",
    "for index,row in historico_derrumbes.iterrows():\n",
    "    try:\n",
    "        latitude = float(row['Latitud'])\n",
    "        longitude = float(row['Longitud'])\n",
    "        # Checking if points is inside our country \"Guatemala\" and data is correct\n",
    "        row_properties = {\n",
    "            'landslide_id':str(index), # index will be our landslide_id\n",
    "            'latitude' : str(row['Latitud']),\n",
    "            'longitude' : str(row['Longitud']),\n",
    "            'event_date' : str(row['Fecha']).split(\" \")[0],\n",
    "            'landslide' : str(1),\n",
    "        }\n",
    "        row_point = Point(coordinates=(longitude,latitude))\n",
    "        row_feature = Feature(geometry=row_point,properties=row_properties)\n",
    "        features.append(row_feature)    \n",
    "    except:\n",
    "        \"Any error while parsing a data point\"\n",
    "        pass\n"
   ]
  },
  {
   "cell_type": "code",
   "execution_count": 30,
   "metadata": {},
   "outputs": [
    {
     "data": {
      "text/plain": [
       "4227"
      ]
     },
     "execution_count": 30,
     "metadata": {},
     "output_type": "execute_result"
    }
   ],
   "source": [
    "# Check final length of data points without erros\n",
    "len(features)"
   ]
  },
  {
   "cell_type": "code",
   "execution_count": 31,
   "metadata": {},
   "outputs": [],
   "source": [
    "# We convert each feature point to a feature collection to pass it to a geojson\n",
    "feature_collection_landslides = FeatureCollection(features=features)"
   ]
  },
  {
   "cell_type": "code",
   "execution_count": 32,
   "metadata": {},
   "outputs": [],
   "source": [
    "dump_landslides = dumps(feature_collection_landslides)"
   ]
  },
  {
   "cell_type": "code",
   "execution_count": 34,
   "metadata": {},
   "outputs": [],
   "source": [
    "f = open(PATH_OUTPUT_GEOJSON, \"w\")\n",
    "f.write(dump_landslides)\n",
    "f.close()\n"
   ]
  }
 ],
 "metadata": {
  "kernelspec": {
   "display_name": "Python 3.7.9 ('.venv': venv)",
   "language": "python",
   "name": "python3"
  },
  "language_info": {
   "codemirror_mode": {
    "name": "ipython",
    "version": 3
   },
   "file_extension": ".py",
   "mimetype": "text/x-python",
   "name": "python",
   "nbconvert_exporter": "python",
   "pygments_lexer": "ipython3",
   "version": "3.9.5"
  },
  "orig_nbformat": 4,
  "vscode": {
   "interpreter": {
    "hash": "29210ba0e00f77dbf103f221e3779ec1e6380ae613c2739c83cf84f1407e86db"
   }
  }
 },
 "nbformat": 4,
 "nbformat_minor": 2
}
