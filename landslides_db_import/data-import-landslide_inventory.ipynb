{
 "cells": [
  {
   "cell_type": "code",
   "execution_count": 1,
   "metadata": {},
   "outputs": [],
   "source": [
    "import psycopg2\n",
    "import pandas as pd\n",
    "import numpy as np\n",
    "from sklearn import preprocessing"
   ]
  },
  {
   "cell_type": "code",
   "execution_count": 2,
   "metadata": {},
   "outputs": [],
   "source": [
    "PATH = './results/final/data_train_merged_23_10.csv'"
   ]
  },
  {
   "cell_type": "code",
   "execution_count": 3,
   "metadata": {},
   "outputs": [],
   "source": [
    "def bulkInsert(records):\n",
    "    try:\n",
    "        connection = psycopg2.connect(user=\"postgres\",\n",
    "                                    password=\"migue219\",\n",
    "                                    host=\"127.0.0.1\",\n",
    "                                    port=\"5432\",\n",
    "                                    database=\"landslide_project\")\n",
    "        cursor = connection.cursor()\n",
    "        sql_insert_query = \"\"\" INSERT INTO public.landslide_inventory(\n",
    "\t                            id, version, event_date, location, satellite, landslide, rock_geo, rock_period, fis_nomr, rock_type, \n",
    "                                soil_rec_symbol, soil_rec_mat_origin, soil_rec_sew_class, soil_rec_tex_sup, soil_rec_c_tex_sup, \n",
    "                                soil_rec_tex_sub, soil_rec_c__tex_sub, soil_rec_risk_eros, soil_tax, soil_use, \n",
    "                                precipitation_mm_last_7_days, elevation_mean, slope_mean, aspect_mean, placurv_mean, procurv_mean, \n",
    "                                elevation, slope, aspect, placurv, procurv)\n",
    "\t                            VALUES (%s, %s, %s, ST_SetSRID(ST_MakePoint(%s, %s), 4326), %s, %s, %s, %s, %s, %s, %s, %s, %s, %s, %s, %s, %s, %s, %s, %s, %s, %s, %s, \n",
    "                                %s, %s, %s, %s, %s, %s, %s, %s); \"\"\"\n",
    "\n",
    "        result = cursor.executemany(sql_insert_query, records)\n",
    "        connection.commit()\n",
    "        print(cursor.rowcount, \"Record inserted successfully into table\")\n",
    "\n",
    "    except (Exception, psycopg2.Error) as error:\n",
    "        print(\"Failed inserting record into table {}\".format(error))\n",
    "\n",
    "    finally:\n",
    "        # closing database connection.\n",
    "        if connection:\n",
    "            cursor.close()\n",
    "            connection.close()\n",
    "            print(\"PostgreSQL connection is closed\")"
   ]
  },
  {
   "cell_type": "code",
   "execution_count": 4,
   "metadata": {},
   "outputs": [],
   "source": [
    "data = pd.read_csv(PATH, index_col=0)\n",
    "data = data.where(data.notnull(), None)"
   ]
  },
  {
   "cell_type": "code",
   "execution_count": 5,
   "metadata": {},
   "outputs": [],
   "source": [
    "records_to_insert = []\n",
    "for index, row in data.iterrows():\n",
    "    elevation_array, slope_array, aspect_array, placurv_array, procurv_array = [], [], [], [], []\n",
    "    for i in range(1, 26):\n",
    "        elevation_array.append(row['elevation_{}'.format(i)])\n",
    "        slope_array.append(row['slope_{}'.format(i)])\n",
    "        aspect_array.append(row['aspect_{}'.format(i)])\n",
    "        placurv_array.append(row['placurv_{}'.format(i)])\n",
    "        procurv_array.append(row['procurv_{}'.format(i)])\n",
    "    elevation_mean = np.mean(elevation_array)\n",
    "    slope_mean = np.mean(slope_array)\n",
    "    aspect_mean = np.mean(aspect_array)\n",
    "    placurv_mean = np.mean(placurv_array)\n",
    "    procurv_mean = np.mean(procurv_array)\n",
    "    records_to_insert.append((row['landslide_id'], 1, row['event_date'], row['longitude'], row['latitude'], row['satellite'], row['landslide'], \n",
    "    row['rock_geo'], row['rock_period'], row['fis_nomr'], row['rock_type'], row['soil_rec_symbol'], row['soil_rec_mat_origin'], \n",
    "    row['soil_rec_sew_class'], row['soil_rec_tex_sup'], row['soil_rec_c_tex_sup'], row['soil_rec_tex_sub'], row['soil_rec_c__tex_sub'], \n",
    "    row['soil_rec_risk_eros'], row['soil_tax'], row['soil_use'], row['precipitation_mm_last_7_days'], elevation_mean, \n",
    "    slope_mean, aspect_mean, placurv_mean, procurv_mean, elevation_array, slope_array, aspect_array, \n",
    "    placurv_array, procurv_array))"
   ]
  },
  {
   "cell_type": "code",
   "execution_count": 6,
   "metadata": {},
   "outputs": [
    {
     "name": "stdout",
     "output_type": "stream",
     "text": [
      "9742\n"
     ]
    }
   ],
   "source": [
    "print(len(records_to_insert))"
   ]
  },
  {
   "cell_type": "code",
   "execution_count": 7,
   "metadata": {},
   "outputs": [
    {
     "name": "stdout",
     "output_type": "stream",
     "text": [
      "9742 Record inserted successfully into table\n",
      "PostgreSQL connection is closed\n"
     ]
    }
   ],
   "source": [
    "bulkInsert(records_to_insert)"
   ]
  }
 ],
 "metadata": {
  "kernelspec": {
   "display_name": "Python 3.9.12 ('geo_env')",
   "language": "python",
   "name": "python3"
  },
  "language_info": {
   "codemirror_mode": {
    "name": "ipython",
    "version": 3
   },
   "file_extension": ".py",
   "mimetype": "text/x-python",
   "name": "python",
   "nbconvert_exporter": "python",
   "pygments_lexer": "ipython3",
   "version": "3.9.12"
  },
  "orig_nbformat": 4,
  "vscode": {
   "interpreter": {
    "hash": "b9c0c391c6ceede039726100339536f42595e366b391c455e167086b0818566c"
   }
  }
 },
 "nbformat": 4,
 "nbformat_minor": 2
}
