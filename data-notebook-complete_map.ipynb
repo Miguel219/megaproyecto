{
 "cells": [
  {
   "cell_type": "code",
   "execution_count": 1,
   "metadata": {},
   "outputs": [],
   "source": [
    "from osgeo import ogr\n",
    "import json\n",
    "import pyproj\n",
    "import pandas as pd\n",
    "from shapely.geometry import shape\n",
    "from shapely.geometry.polygon import Polygon, Point\n",
    "from shapely.ops import transform\n",
    "from math import inf, pi, cos\n",
    "from haversine import Unit, haversine"
   ]
  },
  {
   "cell_type": "markdown",
   "metadata": {},
   "source": [
    "Constantes"
   ]
  },
  {
   "cell_type": "code",
   "execution_count": 2,
   "metadata": {},
   "outputs": [],
   "source": [
    "MAPS_PATHS = [\n",
    "    './data-insivumeh/MapasGuatemala/Fisiografia/FISIOGRAFIAFINAL_GTM.shp',\n",
    "    './data-insivumeh/MapasGuatemala/Geología/GEOLOGIA_GTM.shp',\n",
    "    './data-insivumeh/MapasGuatemala/Suelo Nivel Reconocimiento/SSUELOS_GTM.shp',\n",
    "    './data-insivumeh/MapasGuatemala/Taxonomia Suelos/Shapefile Taxonomia a nivel de Orden Nacional/TAXONOMIA_ORDENES_GTM.shp',\n",
    "    './data-insivumeh/MapasGuatemala/Uso de Suelo/USDA_GTM.shp'\n",
    "]\n",
    "GT_MAP_PATH = './data-insivumeh/IGN/mapa_guatemala/gadm41_GTM_0.shp'\n",
    "RES_DATA = './results/data_insivumeh_all_gt_map.csv'"
   ]
  },
  {
   "cell_type": "code",
   "execution_count": 3,
   "metadata": {},
   "outputs": [],
   "source": [
    "class DataGenerator:\n",
    "    properties = {\n",
    "        'GEO': 'rock_geo',\n",
    "        'EDADGEOGP': 'rock_period',\n",
    "        'NOMR': 'fis_nomr',\n",
    "        'TIPO_ROCA': 'rock_type',\n",
    "        'SIMBOLO': 'soil_rec_symbol',\n",
    "        'MAT_ORIG': 'soil_rec_mat_origin',\n",
    "        'CLAS_DRE': 'soil_rec_sew_class',\n",
    "        'TEX_SUP': 'soil_rec_tex_sup',\n",
    "        'C_TEXSUP': 'soil_rec_c_tex_sup',\n",
    "        'TEX_SUB': 'soil_rec_tex_sub',\n",
    "        'C_TEXSUB': 'soil_rec_c__tex_sub',\n",
    "        'RIES_ERO': 'soil_rec_risk_eros',\n",
    "        'ORDEN': 'soil_tax',\n",
    "        'CAPACIDAD': 'soil_use'\n",
    "    }\n",
    "    def __init__(self, gt_map_directory, maps_directories):\n",
    "        self.maps = dict()\n",
    "        self.count = dict()\n",
    "        target = pyproj.CRS('EPSG:4326')\n",
    "\n",
    "        layer, features = self.__getmap__(gt_map_directory, target)\n",
    "        self.map = features[0]\n",
    "\n",
    "\n",
    "        for directory in maps_directories:\n",
    "            print('Cargando:', directory)\n",
    "            file = ogr.Open(directory)\n",
    "            layer = file.GetLayer()\n",
    "            source = pyproj.CRS(layer.GetSpatialRef().GetName())\n",
    "            features =  [json.loads(layer.GetFeature(i).ExportToJson()) for i in range(layer.GetFeatureCount())]\n",
    "            project = pyproj.Transformer.from_crs(source, target, always_xy=True).transform if source != target else None\n",
    "            \n",
    "            for feature in features:  \n",
    "                if project is None:\n",
    "                    feature['geometry'] = shape(feature['geometry'])\n",
    "                else:\n",
    "                    feature['geometry'] = transform(project, shape(feature['geometry']))\n",
    "            \n",
    "            self.maps[layer.GetName()] =  features\n",
    "            self.count[layer.GetName()] =  0\n",
    "        \n",
    "\n",
    "    def __getmap__(self, directory, target):\n",
    "        print('Cargando:', directory)\n",
    "        file = ogr.Open(directory)\n",
    "        layer = file.GetLayer()\n",
    "        source = pyproj.CRS(layer.GetSpatialRef().GetName())\n",
    "        features =  [json.loads(layer.GetFeature(i).ExportToJson()) for i in range(layer.GetFeatureCount())]\n",
    "        project = pyproj.Transformer.from_crs(source, target, always_xy=True).transform if source != target else None\n",
    "            \n",
    "        for feature in features:  \n",
    "            if project is None:\n",
    "                feature['geometry'] = shape(feature['geometry'])\n",
    "            else:\n",
    "                feature['geometry'] = transform(project, shape(feature['geometry']))\n",
    "\n",
    "        return layer, features\n",
    "    \n",
    "    def __getmapsinformation__(self, point):  \n",
    "        dictData = dict() \n",
    "        for map_name in self.maps.keys():\n",
    "                properties = self.__getmapproperties__(map_name, point)\n",
    "                if properties:   \n",
    "                    dictData.update(properties)\n",
    "                else: \n",
    "                    self.count[map_name] += 1\n",
    "        return dictData\n",
    "\n",
    "    def __getmapproperties__(self, map_name: str, point):   \n",
    "        for feature in self.maps[map_name]:  \n",
    "            polygon: Polygon = feature['geometry']\n",
    "            if polygon.contains(point):\n",
    "                return {self.properties[k]: v for k, v in feature['properties'].items() if k in self.properties.keys()}\n",
    "    \n",
    "    def __getisinmap__(self, point):   \n",
    "        polygon: Polygon = self.map['geometry']\n",
    "        if polygon.contains(point):\n",
    "            return True\n",
    "        else:\n",
    "            return False\n",
    "\n",
    "    def __getmapbounds__(self):   \n",
    "        polygon: Polygon = self.map['geometry']\n",
    "        return polygon.bounds\n",
    "    \n",
    "    def __getnewlnglat__(self, lnglat, dy, dx):   \n",
    "        r_earth = 6378100\n",
    "        latitude = lnglat[1]\n",
    "        longitude = lnglat[0] \n",
    "        new_latitude  = latitude  + (dy / r_earth) * (180 / pi)\n",
    "        new_longitude = longitude + (dx / r_earth) * (180 / pi) / cos(latitude * pi/180)\n",
    "        # print(haversine((longitude, latitude),(new_longitude, new_latitude),unit=Unit.METERS, normalize=True))\n",
    "        return [new_longitude, new_latitude]\n",
    "\n",
    "    def getData(self):\n",
    "        output = pd.DataFrame()\n",
    "        bounds = self.__getmapbounds__()\n",
    "        lnglat = bounds[:2]\n",
    "        landslide_id = 0\n",
    "        while lnglat[1] < bounds[3]:\n",
    "            while lnglat[0] < bounds[2]:\n",
    "                point = Point(lnglat[0], lnglat[1])\n",
    "                if self.__getisinmap__(point):\n",
    "                    landslide_id += 1\n",
    "                    dictData = dict()\n",
    "                    dictData['landslide_id'] = landslide_id\n",
    "                    dictData['longitude'] = lnglat[0]\n",
    "                    dictData['latitude'] = lnglat[1]\n",
    "                    dictData.update(self.__getmapsinformation__(point))\n",
    "                    output = pd.concat([output, pd.DataFrame(dictData, index=[dictData['landslide_id']])])\n",
    "                lnglat = self.__getnewlnglat__(lnglat, 0, 1000)\n",
    "            lnglat[0] = bounds[0]\n",
    "            lnglat = self.__getnewlnglat__(lnglat, 1000, 0)\n",
    "            \n",
    "        for map_name in self.maps.keys():\n",
    "            print('Cantidad de puntos con propiedades del mapa \"{}\" faltantes: {}'.format(map_name, self.count[map_name]))\n",
    "        return output            "
   ]
  },
  {
   "cell_type": "code",
   "execution_count": 4,
   "metadata": {},
   "outputs": [
    {
     "name": "stdout",
     "output_type": "stream",
     "text": [
      "Cargando: ./data-insivumeh/IGN/mapa_guatemala/gadm41_GTM_0.shp\n",
      "Cargando: ./data-insivumeh/MapasGuatemala/Fisiografia/FISIOGRAFIAFINAL_GTM.shp\n",
      "Cargando: ./data-insivumeh/MapasGuatemala/Geología/GEOLOGIA_GTM.shp\n",
      "Cargando: ./data-insivumeh/MapasGuatemala/Suelo Nivel Reconocimiento/SSUELOS_GTM.shp\n",
      "Cargando: ./data-insivumeh/MapasGuatemala/Taxonomia Suelos/Shapefile Taxonomia a nivel de Orden Nacional/TAXONOMIA_ORDENES_GTM.shp\n",
      "Cargando: ./data-insivumeh/MapasGuatemala/Uso de Suelo/USDA_GTM.shp\n"
     ]
    }
   ],
   "source": [
    "dg = DataGenerator(GT_MAP_PATH, MAPS_PATHS)\n",
    "data = dg.getData()"
   ]
  },
  {
   "cell_type": "code",
   "execution_count": null,
   "metadata": {},
   "outputs": [],
   "source": [
    "data.to_csv(RES_DATA)  "
   ]
  }
 ],
 "metadata": {
  "kernelspec": {
   "display_name": "Python 3.10.5 ('geo_env')",
   "language": "python",
   "name": "python3"
  },
  "language_info": {
   "codemirror_mode": {
    "name": "ipython",
    "version": 3
   },
   "file_extension": ".py",
   "mimetype": "text/x-python",
   "name": "python",
   "nbconvert_exporter": "python",
   "pygments_lexer": "ipython3",
   "version": "3.9.12"
  },
  "orig_nbformat": 4,
  "vscode": {
   "interpreter": {
    "hash": "b9c0c391c6ceede039726100339536f42595e366b391c455e167086b0818566c"
   }
  }
 },
 "nbformat": 4,
 "nbformat_minor": 2
}
