{
 "cells": [
  {
   "cell_type": "code",
   "execution_count": 1,
   "metadata": {},
   "outputs": [],
   "source": [
    "from osgeo import ogr\n",
    "import json\n",
    "import pyproj\n",
    "import pandas as pd\n",
    "from shapely.geometry import shape\n",
    "from shapely.geometry.polygon import Polygon\n",
    "from shapely.ops import transform"
   ]
  },
  {
   "cell_type": "markdown",
   "metadata": {},
   "source": [
    "Constantes"
   ]
  },
  {
   "cell_type": "code",
   "execution_count": 2,
   "metadata": {},
   "outputs": [],
   "source": [
    "MAPS_PATHS = [\n",
    "    './data-insivumeh/MapasGuatemala/Fisiografia/FISIOGRAFIAFINAL_GTM.shp',\n",
    "    './data-insivumeh/MapasGuatemala/Geología/GEOLOGIA_GTM.shp',\n",
    "    './data-insivumeh/MapasGuatemala/Suelo Nivel Reconocimiento/SSUELOS_GTM.shp',\n",
    "    './data-insivumeh/MapasGuatemala/Taxonomia Suelos/Shapefile Taxonomia a nivel de Orden Nacional/TAXONOMIA_ORDENES_GTM.shp',\n",
    "    './data-insivumeh/MapasGuatemala/Uso de Suelo/USDA_GTM.shp'\n",
    "]\n",
    "PATH = './data-insivumeh/data_train.json'\n",
    "RES_DATA = './results/data_insivumeh.csv'"
   ]
  },
  {
   "cell_type": "code",
   "execution_count": 3,
   "metadata": {},
   "outputs": [],
   "source": [
    "class DataGenerator:\n",
    "    properties = {\n",
    "        'GEO': 'rock_geo',\n",
    "        'EDADGEOGP': 'rock_period',\n",
    "        'NOMR': 'fis_nomr',\n",
    "        'TIPO_ROCA': 'rock_type',\n",
    "        'SIMBOLO': 'soil_rec_symbol',\n",
    "        'MAT_ORIG': 'soil_rec_mat_origin',\n",
    "        'CLAS_DRE': 'soil_rec_sew_class',\n",
    "        'TEX_SUP': 'soil_rec_tex_sup',\n",
    "        'C_TEXSUP': 'soil_rec_c_tex_sup',\n",
    "        'TEX_SUB': 'soil_rec_tex_sub',\n",
    "        'C_TEXSUB': 'soil_rec_c__tex_sub',\n",
    "        'RIES_ERO': 'soil_rec_risk_eros',\n",
    "        'ORDEN': 'soil_tax',\n",
    "        'CAPACIDAD': 'soil_use'\n",
    "    }\n",
    "    def __init__(self, points_directory, maps_directories):\n",
    "        with open(points_directory, 'r', encoding=\"utf8\") as f:\n",
    "            self.data: dict = json.load(f)\n",
    "\n",
    "        for feature in self.data['features']:\n",
    "            feature['properties']['landslide_id'] = int(feature['properties']['landslide_id'])\n",
    "            feature['geometry'] = shape(feature['geometry'])\n",
    "\n",
    "        self.maps = dict()\n",
    "        self.count = dict()\n",
    "        target = pyproj.CRS('EPSG:4326')\n",
    "        for directory in maps_directories:\n",
    "            file = ogr.Open(directory)\n",
    "            layer = file.GetLayer()\n",
    "            source = pyproj.CRS(layer.GetSpatialRef().GetName())\n",
    "            features =  [json.loads(layer.GetFeature(i).ExportToJson()) for i in range(layer.GetFeatureCount())]\n",
    "            project = pyproj.Transformer.from_crs(source, target, always_xy=True).transform if source != target else None\n",
    "            \n",
    "            for feature in features:  \n",
    "                if project is None:\n",
    "                    feature['geometry'] = shape(feature['geometry'])\n",
    "                else:\n",
    "                    feature['geometry'] = transform(project, shape(feature['geometry']))\n",
    "            \n",
    "            self.maps[layer.GetName()] =  features\n",
    "            self.count[layer.GetName()] =  0\n",
    "        \n",
    "    def __getitem__(self, index: int): \n",
    "        return (\n",
    "            self.data['features'][index]['properties'], \n",
    "            self.data['features'][index]['geometry']\n",
    "            )\n",
    "    \n",
    "    def __getmapproperties__(self, map_name: str, point):   \n",
    "        for feature in self.maps[map_name]:  \n",
    "                polygon: Polygon = feature['geometry']\n",
    "                if polygon.contains(point):\n",
    "                    return {self.properties[k]: v for k, v in feature['properties'].items() if k in self.properties.keys()}\n",
    "\n",
    "    def getData(self):\n",
    "        output = pd.DataFrame()\n",
    "        for i in range(len(self.data['features'])):\n",
    "            dictData = dict()\n",
    "            point_properties, point = self.__getitem__(i)\n",
    "            \n",
    "            # Point information\n",
    "            if point_properties:   \n",
    "                dictData.update(point_properties)\n",
    "            \n",
    "            # Maps information\n",
    "            for map_name in self.maps.keys():\n",
    "                properties = self.__getmapproperties__(map_name, point)\n",
    "                if properties:   \n",
    "                    dictData.update(properties)\n",
    "                else: \n",
    "                    self.count[map_name] += 1\n",
    "\n",
    "            dictData.update()\n",
    "            output = pd.concat([output, pd.DataFrame(dictData, index=[point_properties['landslide_id']])])\n",
    "        \n",
    "        for map_name in self.maps.keys():\n",
    "            print('Cantidad de puntos con propiedades del mapa \"{}\" faltantes: {}'.format(map_name, self.count[map_name]))\n",
    "        return output            "
   ]
  },
  {
   "cell_type": "code",
   "execution_count": 4,
   "metadata": {},
   "outputs": [
    {
     "name": "stdout",
     "output_type": "stream",
     "text": [
      "Cantidad de puntos con propiedades del mapa \"FISIOGRAFIAFINAL_GTM\" faltantes: 22\n",
      "Cantidad de puntos con propiedades del mapa \"GEOLOGIA_GTM\" faltantes: 22\n",
      "Cantidad de puntos con propiedades del mapa \"SSUELOS_GTM\" faltantes: 22\n",
      "Cantidad de puntos con propiedades del mapa \"TAXONOMIA_ORDENES_GTM\" faltantes: 22\n",
      "Cantidad de puntos con propiedades del mapa \"USDA_GTM\" faltantes: 22\n"
     ]
    }
   ],
   "source": [
    "dg = DataGenerator(PATH, MAPS_PATHS)\n",
    "data = dg.getData()"
   ]
  },
  {
   "cell_type": "code",
   "execution_count": 5,
   "metadata": {},
   "outputs": [],
   "source": [
    "data.to_csv(RES_DATA)  "
   ]
  }
 ],
 "metadata": {
  "kernelspec": {
   "display_name": "Python 3.10.5 ('geo_env')",
   "language": "python",
   "name": "python3"
  },
  "language_info": {
   "codemirror_mode": {
    "name": "ipython",
    "version": 3
   },
   "file_extension": ".py",
   "mimetype": "text/x-python",
   "name": "python",
   "nbconvert_exporter": "python",
   "pygments_lexer": "ipython3",
   "version": "3.9.12"
  },
  "orig_nbformat": 4,
  "vscode": {
   "interpreter": {
    "hash": "b9c0c391c6ceede039726100339536f42595e366b391c455e167086b0818566c"
   }
  }
 },
 "nbformat": 4,
 "nbformat_minor": 2
}
